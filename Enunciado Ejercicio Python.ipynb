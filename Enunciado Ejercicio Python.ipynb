{
  "cells": [
    {
      "cell_type": "markdown",
      "metadata": {
        "id": "1CopsgZnhDL2"
      },
      "source": [
        "# Python &#x1F60E; 🐍;\n",
        "\n",
        "Reglas indispensables a seguir en Python:\n",
        "\n",
        "\n",
        "1.   Respetar indentaciones\n",
        "2.   *Case Sensitive*\n",
        "3.   Definir elementos previos a su invocación (*sentido en el que corre el código*)\n",
        "4.   Tener en cuenta al sobreescribir elementos ya definidos\n"
      ]
    },
    {
      "cell_type": "markdown",
      "metadata": {
        "id": "A11ePKqCDM2E"
      },
      "source": [
        "Detalles a tener en cuenta:\n",
        "\n",
        "**1. Tipo de datos:**\n",
        "- No hay que declarar el tipo de dato ⟶ python lo deduce automáticamente al asignar un valor a la variable ⇒ esto es lo que se conoce como **tipado dinámico**\n",
        "\n",
        "**2. Asignación de memoria:**\n",
        "- Python asigna un espacio de memoria suficiente para almacenar el valor de la variable y su tipo de forma automática\n"
      ]
    },
    {
      "cell_type": "markdown",
      "metadata": {
        "id": "0nQJNcnQMGLN"
      },
      "source": [
        "## **INDEX**\n",
        "\n",
        "1. Librerías\n",
        "2. Declarar variables\n",
        "3. Print\n",
        "4. Tipo de datos:\n",
        "\n",
        "  *   Caracteres: string\n",
        "  *   Numéricos: int, float\n",
        "  *   Lógicos: bool\n",
        "  * Colección: Listas, diccionarios, tupla, set\n",
        "\n",
        "\n",
        "5. Operadores:\n",
        "\n",
        "  * Aritméticos\n",
        "  * Relacionales\n",
        "  * Lógicos\n",
        "  * De pertenencia\n",
        "\n"
      ]
    },
    {
      "cell_type": "markdown",
      "metadata": {
        "id": "TtFBivAXPeNW"
      },
      "source": [
        "- Vamos a ir revisando la teoría + ejercicios\n",
        "- Este notebook se corresponde con la sesión Live 1 (introducción a python) + Live 2 (actividad introducción a python)\n",
        "- Se tendrá que entregar en la actividad los ejercicios que iremos resolviendo en clase + los que no de tiempo\n",
        "- Los enunciados de estos ejercicios se encuentran:\n",
        "  * En este notebook, al acabar cada parte de teoría\n",
        "  * Recopilados en el notebook de actividades a entregar\n",
        "  * SON EXACTAMENTE LOS MISMOS"
      ]
    },
    {
      "cell_type": "markdown",
      "metadata": {
        "id": "LHQun_zTx3cu"
      },
      "source": [
        "## 1.Importación de librerías"
      ]
    },
    {
      "cell_type": "code",
      "execution_count": null,
      "metadata": {
        "id": "It1ZQVA7x3Ob"
      },
      "outputs": [],
      "source": [
        "import sys          # Proporciona acceso a funciones y variables específicas del sistema.\n",
        "import keyword      # Permite trabajar con las palabras clave de Python.\n",
        "import operator     # Ofrece acceso a operadores funcionales, como operaciones matemáticas y lógicas.\n",
        "from datetime import datetime  # Importa la clase datetime para trabajar con fechas y horas.\n",
        "import os           # Proporciona una manera de usar funcionalidades dependientes del sistema operativo.\n"
      ]
    },
    {
      "cell_type": "markdown",
      "metadata": {
        "id": "v19Q-c3d30K-"
      },
      "source": [
        "## 2.Declaración de Variables\n"
      ]
    },
    {
      "cell_type": "markdown",
      "metadata": {
        "id": "BgG2rmiGp9fS"
      },
      "source": [
        "*  El nombre debe comenzar con letras o un guión bajo\n",
        "*  No se permiten espacios en blanco ni caracteres especiales (como @, #, $, %, etc.)\n",
        "*  No usar palabras reservadas del lenguaje como nombres de variables (if, else, while, for, def, class, import, etc)"
      ]
    },
    {
      "cell_type": "code",
      "execution_count": null,
      "metadata": {
        "colab": {
          "base_uri": "https://localhost:8080/"
        },
        "id": "rA_QlnC6IdVH",
        "outputId": "d4fd419f-8222-4d7b-d2dd-6e7fe8e016ee"
      },
      "outputs": [
        {
          "name": "stdout",
          "output_type": "stream",
          "text": [
            "soy una variable valida\n"
          ]
        }
      ],
      "source": [
        "a = 'soy una variable valida'\n",
        "print(a)"
      ]
    },
    {
      "cell_type": "code",
      "execution_count": null,
      "metadata": {
        "colab": {
          "base_uri": "https://localhost:8080/"
        },
        "id": "92MvxH0rIf-Q",
        "outputId": "4d263e32-0fc3-4724-e28c-99b99bfe5a27"
      },
      "outputs": [
        {
          "name": "stdout",
          "output_type": "stream",
          "text": [
            "15\n"
          ]
        }
      ],
      "source": [
        "a, b, c = 'string', 15, True\n",
        "print(b)"
      ]
    },
    {
      "cell_type": "code",
      "execution_count": null,
      "metadata": {
        "colab": {
          "base_uri": "https://localhost:8080/"
        },
        "id": "zi2lWZFM2Qt-",
        "outputId": "71a47d0c-e080-44a0-fcf7-41e693aaff05"
      },
      "outputs": [
        {
          "name": "stdout",
          "output_type": "stream",
          "text": [
            "Pepita Perez\n"
          ]
        }
      ],
      "source": [
        "my_list = ['Pepito Perez', 'Pepita Perez']\n",
        "padre, hija = my_list\n",
        "print(hija)"
      ]
    },
    {
      "cell_type": "markdown",
      "metadata": {
        "id": "A2uKnOITL5iD"
      },
      "source": [
        "##  3.Print: format string\n",
        "\n",
        "\n"
      ]
    },
    {
      "cell_type": "markdown",
      "metadata": {
        "id": "hn6nFUimST9-"
      },
      "source": [
        "La función **print** es una de las funciones más utilizadas en Python. Se usa para mostrar información:"
      ]
    },
    {
      "cell_type": "code",
      "execution_count": null,
      "metadata": {
        "colab": {
          "base_uri": "https://localhost:8080/"
        },
        "id": "uyXRgjQzSSZH",
        "outputId": "4902d99f-d436-4ba6-9547-1cef26d08f77"
      },
      "outputs": [
        {
          "name": "stdout",
          "output_type": "stream",
          "text": [
            "nombre\n",
            "Silvia\n",
            "edad\n",
            "26\n"
          ]
        }
      ],
      "source": [
        "nombre = 'Silvia'\n",
        "edad = 26\n",
        "\n",
        "print(\"nombre\")\n",
        "print(nombre)\n",
        "\n",
        "print(\"edad\")\n",
        "print(edad)"
      ]
    },
    {
      "cell_type": "markdown",
      "metadata": {
        "id": "-TP1YVKLekXF"
      },
      "source": [
        "#### Operador +\n",
        "\n",
        "- Sirve para sumar numeros\n",
        "- o concatenar strings"
      ]
    },
    {
      "cell_type": "code",
      "execution_count": null,
      "metadata": {
        "colab": {
          "base_uri": "https://localhost:8080/"
        },
        "id": "wRGTRLuDeqFe",
        "outputId": "7028ebf5-1cde-42ce-86a7-aec7516954f9"
      },
      "outputs": [
        {
          "name": "stdout",
          "output_type": "stream",
          "text": [
            "Hola Silvia, cómo va todo?\n"
          ]
        }
      ],
      "source": [
        "saludo = \"Hola\"\n",
        "nombre = 'Silvia'\n",
        "# Union de cadenas\n",
        "print(saludo + \" \" + nombre + \", \" + \"cómo va todo?\")"
      ]
    },
    {
      "cell_type": "code",
      "execution_count": null,
      "metadata": {
        "colab": {
          "base_uri": "https://localhost:8080/"
        },
        "id": "lo562BVqfFqU",
        "outputId": "05daea4a-1a76-41e5-cab7-45b8093c2b1f"
      },
      "outputs": [
        {
          "data": {
            "text/plain": [
              "11"
            ]
          },
          "execution_count": 112,
          "metadata": {},
          "output_type": "execute_result"
        }
      ],
      "source": [
        "5 + 6"
      ]
    },
    {
      "cell_type": "code",
      "execution_count": null,
      "metadata": {
        "colab": {
          "base_uri": "https://localhost:8080/",
          "height": 35
        },
        "id": "tOecTs-ZfISu",
        "outputId": "a8f80211-a516-48e0-c31a-f76dc4ece3a6"
      },
      "outputs": [
        {
          "data": {
            "application/vnd.google.colaboratory.intrinsic+json": {
              "type": "string"
            },
            "text/plain": [
              "'56'"
            ]
          },
          "execution_count": 113,
          "metadata": {},
          "output_type": "execute_result"
        }
      ],
      "source": [
        "\"5\" + \"6\""
      ]
    },
    {
      "cell_type": "markdown",
      "metadata": {
        "id": "KcMDgTvvSos5"
      },
      "source": [
        "Podemos **concatenar cadenas de texto y variables de tipo string utilizando el operador +**.\n",
        "\n",
        "Debemos asegurarnos de que todas las partes sean cadenas de texto:"
      ]
    },
    {
      "cell_type": "code",
      "execution_count": null,
      "metadata": {
        "colab": {
          "base_uri": "https://localhost:8080/"
        },
        "id": "J8pA9AlZSsfe",
        "outputId": "6af384c0-8ac1-498a-a013-ae02d500f128"
      },
      "outputs": [
        {
          "name": "stdout",
          "output_type": "stream",
          "text": [
            "Hola, mi nombre es Silvia, encantada\n"
          ]
        }
      ],
      "source": [
        "saludo = \"Hola\"\n",
        "nombre = 'Silvia'\n",
        "print(saludo + \", mi nombre es \" + nombre + \", encantada\")\n",
        "\n",
        "# saludo : es string\n",
        "# nombre: es string\n",
        "# como es del mismo tipo, NO da error"
      ]
    },
    {
      "cell_type": "markdown",
      "metadata": {
        "id": "hWsdneoeS22P"
      },
      "source": [
        "Si intentamos usar el operador \"+\" y mezclamos parte string + parte numérica, nos va a dar error:\n",
        "\n",
        "> can only concatenate str (not \"int\") to str\n",
        "\n",
        "\n",
        "\n",
        "\n"
      ]
    },
    {
      "cell_type": "code",
      "execution_count": null,
      "metadata": {
        "colab": {
          "base_uri": "https://localhost:8080/",
          "height": 158
        },
        "id": "3Z3EcTkDS9ei",
        "outputId": "8e2fb0e5-7cd5-40ce-cc73-1d0c4065b566"
      },
      "outputs": [
        {
          "ename": "TypeError",
          "evalue": "can only concatenate str (not \"int\") to str",
          "output_type": "error",
          "traceback": [
            "\u001b[0;31m---------------------------------------------------------------------------\u001b[0m",
            "\u001b[0;31mTypeError\u001b[0m                                 Traceback (most recent call last)",
            "\u001b[0;32m<ipython-input-17-892df29817a3>\u001b[0m in \u001b[0;36m<cell line: 2>\u001b[0;34m()\u001b[0m\n\u001b[1;32m      1\u001b[0m \u001b[0medad\u001b[0m \u001b[0;34m=\u001b[0m \u001b[0;36m26\u001b[0m\u001b[0;34m\u001b[0m\u001b[0;34m\u001b[0m\u001b[0m\n\u001b[0;32m----> 2\u001b[0;31m \u001b[0mprint\u001b[0m\u001b[0;34m(\u001b[0m\u001b[0;34m\"Tengo: \"\u001b[0m \u001b[0;34m+\u001b[0m  \u001b[0medad\u001b[0m \u001b[0;34m+\u001b[0m \u001b[0;34m\"años.\"\u001b[0m\u001b[0;34m)\u001b[0m\u001b[0;34m\u001b[0m\u001b[0;34m\u001b[0m\u001b[0m\n\u001b[0m",
            "\u001b[0;31mTypeError\u001b[0m: can only concatenate str (not \"int\") to str"
          ]
        }
      ],
      "source": [
        "edad = 26\n",
        "print(\"Tengo: \" +  edad + \"años.\")\n",
        "\n",
        "# tengo: es string\n",
        "# edad: es número\n",
        "# como NO es el mismo tipo, da error al intentar concatenar"
      ]
    },
    {
      "cell_type": "markdown",
      "metadata": {
        "id": "Vodo-LgeT4eF"
      },
      "source": [
        "Podemos **intercalar variables de diferentes tipos con comas**, y así podremos imprimir varios elementos.\n",
        "\n",
        "Python agregará automáticamente un espacio entre cada elemento:"
      ]
    },
    {
      "cell_type": "code",
      "execution_count": null,
      "metadata": {
        "colab": {
          "base_uri": "https://localhost:8080/"
        },
        "id": "jPrMpHKJS2LV",
        "outputId": "bbe11d83-2d06-4b04-9375-40b579d151bf"
      },
      "outputs": [
        {
          "name": "stdout",
          "output_type": "stream",
          "text": [
            "Tengo 26 años.\n"
          ]
        }
      ],
      "source": [
        "edad = 26\n",
        "print(\"Tengo\", edad, \"años.\")\n",
        "\n",
        "# tengo: es string\n",
        "# edad: es numero\n",
        "# al usar comas en lugar de + podemos imprimir el resultado"
      ]
    },
    {
      "cell_type": "markdown",
      "metadata": {
        "id": "qTS9p6y4Ub_j"
      },
      "source": [
        "Y podemos mostrar un mensaje mas completo:"
      ]
    },
    {
      "cell_type": "code",
      "execution_count": null,
      "metadata": {
        "colab": {
          "base_uri": "https://localhost:8080/"
        },
        "id": "RflVYJrLUMGA",
        "outputId": "96a9fee6-102f-4d9e-998b-fa4fcc646f55"
      },
      "outputs": [
        {
          "name": "stdout",
          "output_type": "stream",
          "text": [
            "Hola, mi nombre es Silvia y tengo 26 años.\n"
          ]
        }
      ],
      "source": [
        "print(\"Hola, mi nombre es\", nombre, \"y tengo\", edad, \"años.\")"
      ]
    },
    {
      "cell_type": "markdown",
      "metadata": {
        "id": "APlC8IoKUvAf"
      },
      "source": [
        "### **print con f-string**\n",
        "\n",
        "- Las f-strings son una forma concisa y conveniente de incorporar expresiones/variables dentro de cadenas de texto.\n",
        "\n",
        "- Se llaman así porque se preceden por una f o F antes de las comillas (viene del inglés formatted)\n",
        "\n",
        "- Las expresiones dentro de una f-string se incluyen entre llaves {} y se evalúan en tiempo de ejecución.\n",
        "\n",
        "¿Cómo se compone este print?\n",
        "\n",
        "1. Anteponemos una f a la cadena de texto.\n",
        "2. Utilizamos llaves {} para incluir las variables que queramos traducir dentro de la cadena.\n",
        "  - Probemos con nombre y edad\n",
        "3. Python reemplaza {nombre} con el valor de la variable nombre y {edad} con el valor de edad."
      ]
    },
    {
      "cell_type": "code",
      "execution_count": null,
      "metadata": {
        "colab": {
          "base_uri": "https://localhost:8080/"
        },
        "id": "kCFbLbcFWY5m",
        "outputId": "d1324493-74a0-41ab-9e21-63e97f91b780"
      },
      "outputs": [
        {
          "name": "stdout",
          "output_type": "stream",
          "text": [
            "Mi nombre es Silvia y tengo 26 años.\n"
          ]
        }
      ],
      "source": [
        "#nombre = 'Silvia'\n",
        "#edad = 26\n",
        "\n",
        "# no necesito declarar las variables de nuevo\n",
        "# ya las tiene en memoria python\n",
        "\n",
        "print(f\"Mi nombre es {nombre} y tengo {edad} años.\")\n"
      ]
    },
    {
      "cell_type": "code",
      "execution_count": null,
      "metadata": {
        "colab": {
          "base_uri": "https://localhost:8080/"
        },
        "id": "ry3NMz3LWrXz",
        "outputId": "81e2938e-49a8-410e-9582-47d3ba698a46"
      },
      "outputs": [
        {
          "name": "stdout",
          "output_type": "stream",
          "text": [
            "Mi nombre es Rubén y tengo 20 años.\n"
          ]
        }
      ],
      "source": [
        "nombre = 'Rubén'\n",
        "edad = 20\n",
        "\n",
        "print(f\"Mi nombre es {nombre} y tengo {edad} años.\")"
      ]
    },
    {
      "cell_type": "markdown",
      "metadata": {
        "id": "R9pNBhloYZKC"
      },
      "source": [
        "Una de las ventajas de las f-strings es que puedes incluir expresiones dentro de las llaves, no solo variables:"
      ]
    },
    {
      "cell_type": "code",
      "execution_count": null,
      "metadata": {
        "colab": {
          "base_uri": "https://localhost:8080/"
        },
        "id": "iFi9qIX1YZ2b",
        "outputId": "f108c13f-fe3d-4ea1-fe14-f97fd4a2010f"
      },
      "outputs": [
        {
          "name": "stdout",
          "output_type": "stream",
          "text": [
            "El próximo año, tendré 21 años.\n",
            "Y el siguiente, tendré 22 años.\n"
          ]
        }
      ],
      "source": [
        "años_siguiente = edad + 1\n",
        "print(f\"El próximo año, tendré {años_siguiente} años.\")\n",
        "print(f\"Y el siguiente, tendré {años_siguiente+1} años.\")\n"
      ]
    },
    {
      "cell_type": "markdown",
      "metadata": {
        "id": "jnRBZxEnYi6j"
      },
      "source": [
        "También podemos formatear números dentro de una f-string, por ejemplo, para mostrar un número con dos decimales:"
      ]
    },
    {
      "cell_type": "code",
      "execution_count": null,
      "metadata": {
        "colab": {
          "base_uri": "https://localhost:8080/"
        },
        "id": "PSfgyhAzYib-",
        "outputId": "00ec0938-f0cb-49aa-a1e4-d0abf7242b20"
      },
      "outputs": [
        {
          "name": "stdout",
          "output_type": "stream",
          "text": [
            "Mi altura es 1.62 metros.\n"
          ]
        }
      ],
      "source": [
        "altura = 1.625\n",
        "print(f\"Mi altura es {altura:.2f} metros.\")\n",
        "\n",
        "# {altura:.2f} indica que queremos mostrar el valor de altura con dos decimales.\n"
      ]
    },
    {
      "cell_type": "markdown",
      "metadata": {
        "id": "fOUOGPL4pT5N"
      },
      "source": [
        "Más adelante veremos otra forma de usar f-string"
      ]
    },
    {
      "cell_type": "markdown",
      "metadata": {
        "id": "blF0MKxUYxW6"
      },
      "source": [
        "### 🎈 Ejercicio print 🎈\n",
        "\n",
        "Declara las siguientes variables:\n",
        "\n",
        "* **nombre:** tu nombre\n",
        "* **edad:** tu edad\n",
        "* **ciudad:** la ciudad donde vives\n",
        "* **hobby:**tu pasatiempo favorito\n",
        "\n",
        "Usa una f-string para imprimir una oración que incluya toda esta información:\n",
        "\n",
        "> Me llamo *Silvia*, tengo *26* años y vivo en *Leganés*. Me encanta *viajar*.\n",
        "\n"
      ]
    },
    {
      "cell_type": "code",
      "execution_count": null,
      "metadata": {
        "colab": {
          "base_uri": "https://localhost:8080/"
        },
        "id": "4C7rM7evZUdo",
        "outputId": "4a90803f-ca83-4dd1-9d66-21ee26149a10"
      },
      "outputs": [
        {
          "name": "stdout",
          "output_type": "stream",
          "text": [
            "Me llamo Silvia, tengo 26 años y vivo en Leganés. Me gusta viajar.\n"
          ]
        }
      ],
      "source": [
        "# Usa una f-string para imprimir una oración que incluya la información\n",
        "# nombre, edad, ciudad, hobby\n",
        "\n",
        "# Declarar las variables\n",
        "\n",
        "\n",
        "# Usar una f-string para imprimir la información\n"
      ]
    },
    {
      "cell_type": "markdown",
      "metadata": {
        "id": "BXkX3CFAmGhK"
      },
      "source": [
        "## 4.Tipo de datos"
      ]
    },
    {
      "cell_type": "markdown",
      "metadata": {
        "id": "Y4e_fGRhs0dn"
      },
      "source": [
        "### 4.1. String: cadena de caracteres"
      ]
    },
    {
      "cell_type": "markdown",
      "metadata": {
        "id": "fAxqXQPBtPDp"
      },
      "source": [
        "- Un **string** es una secuencia de caracteres que se utiliza para representar texto.\n",
        "- Pueden incluir letras, números y caracteres especiales.\n",
        "- Se declara entre:\n",
        "  * comillas simples (')\n",
        "  * comillas dobles (\")\n",
        "  * con triple comillas (\"\"\"): esto nos permite escribir párrafos\n",
        "  * se utiliza la barra lateral \\ para escapear algun caracter especial"
      ]
    },
    {
      "cell_type": "markdown",
      "metadata": {
        "id": "i65uuzaTgjRo"
      },
      "source": [
        "#### Formas de declarar str"
      ]
    },
    {
      "cell_type": "code",
      "execution_count": null,
      "metadata": {
        "colab": {
          "base_uri": "https://localhost:8080/"
        },
        "id": "XjJm6p9iyND2",
        "outputId": "3dca464c-8e1f-43b8-b19c-a8cce02f2f07"
      },
      "outputs": [
        {
          "name": "stdout",
          "output_type": "stream",
          "text": [
            "nombre: Silvia\n"
          ]
        }
      ],
      "source": [
        "# 1. String con Comillas Simples\n",
        "string_simple = 'Pontia'\n",
        "print(string_simple)\n",
        "\n",
        "# con el f-string\n",
        "print(f\"string_simple: {string_simple}\")\n",
        "\n",
        "nombre='Silvia'\n",
        "print(f\"nombre: {nombre}\")"
      ]
    },
    {
      "cell_type": "code",
      "execution_count": null,
      "metadata": {
        "colab": {
          "base_uri": "https://localhost:8080/"
        },
        "id": "dusNDsWmyYDo",
        "outputId": "bb110d60-c113-4a71-d066-59b3143da2f6"
      },
      "outputs": [
        {
          "name": "stdout",
          "output_type": "stream",
          "text": [
            "Pon@tia\n",
            "Hola, ¿cómo estás?\n"
          ]
        }
      ],
      "source": [
        "# 2. String con Comillas Dobles\n",
        "string_doble = \"Pon@tia\"\n",
        "print(string_doble)\n",
        "\n",
        "saludo = \"Hola, ¿cómo estás?\"\n",
        "print(saludo)"
      ]
    },
    {
      "cell_type": "code",
      "execution_count": null,
      "metadata": {
        "colab": {
          "base_uri": "https://localhost:8080/"
        },
        "id": "T-Wq_-bty0ot",
        "outputId": "acbe854f-aa3e-407c-daa0-cbd95a3c4117"
      },
      "outputs": [
        {
          "name": "stdout",
          "output_type": "stream",
          "text": [
            "\"Pontia\"\n",
            "\"La vida es bella\", dijo él.\n"
          ]
        }
      ],
      "source": [
        "# 3. String con Comillas Dobles y Comillas Simples Internas\n",
        "string_con_comillas = '\"Pontia\"'\n",
        "print(string_con_comillas)\n",
        "\n",
        "# Este string utiliza comillas simples para encapsular el texto, que incluye comillas dobles dentro de sí mismo.\n",
        "# Es útil para incluir comillas dobles dentro del string sin necesidad de usar caracteres de escape.\n",
        "\n",
        "cita = '\"La vida es bella\", dijo él.'\n",
        "print(cita)"
      ]
    },
    {
      "cell_type": "code",
      "execution_count": null,
      "metadata": {
        "colab": {
          "base_uri": "https://localhost:8080/"
        },
        "id": "SLAwl-4kP7Ei",
        "outputId": "98a416ad-9cee-4445-e2f8-4d6c0ba55fa1"
      },
      "outputs": [
        {
          "name": "stdout",
          "output_type": "stream",
          "text": [
            "Hola, \"Juan\". ¿Cómo estás?\n",
            "Hola, 'Juan'. ¿Cómo estás?\n"
          ]
        }
      ],
      "source": [
        "# Tambien se puede usar al reves: comillas dobles encapsulando comillas simples\n",
        "saludo_simple = 'Hola, \"Juan\". ¿Cómo estás?'\n",
        "saludo_doble = \"Hola, 'Juan'. ¿Cómo estás?\"\n",
        "print(saludo_simple)\n",
        "print(saludo_doble)"
      ]
    },
    {
      "cell_type": "code",
      "execution_count": null,
      "metadata": {
        "colab": {
          "base_uri": "https://localhost:8080/"
        },
        "id": "Uem6H3BN0scT",
        "outputId": "13c876a5-bbf6-4449-d6e8-dc8626cbcc6d"
      },
      "outputs": [
        {
          "name": "stdout",
          "output_type": "stream",
          "text": [
            "\"Pontia\"\n",
            "Esta es una línea.\n",
            "Esta es una nueva línea con una tabulación:\tFin.\n"
          ]
        }
      ],
      "source": [
        "# 4. String con Caracteres de Escape\n",
        "string_con_comillas_escape = \"\\\"Pontia\\\"\"\n",
        "print(string_con_comillas_escape)\n",
        "\n",
        "# Este string usa comillas dobles para encapsular el texto (en lugar de las simples)\n",
        "# y caracteres de escape (\\) para incluir comillas dobles dentro del string.\n",
        "\n",
        "# Los caracteres de escape permiten incluir caracteres especiales que de otro modo serían difíciles de incorporar directamente.\n",
        "# como saltos de línea (\\n), tabulaciones (\\t), o comillas dentro de un string\n",
        "\n",
        "texto_con_escapes = \"Esta es una línea.\\nEsta es una nueva línea con una tabulación:\\tFin.\"\n",
        "print(texto_con_escapes)\n"
      ]
    },
    {
      "cell_type": "code",
      "execution_count": null,
      "metadata": {
        "colab": {
          "base_uri": "https://localhost:8080/"
        },
        "id": "IG2xMIEAQ8s9",
        "outputId": "c9e72da3-e32a-4d3e-c1c2-1c6bd7a2c47c"
      },
      "outputs": [
        {
          "name": "stdout",
          "output_type": "stream",
          "text": [
            "Pontia\n",
            "\n",
            "Esta es una línea.\n",
            "Esta es otra línea.\n",
            "Y aquí hay una \"cita\" en una línea nueva.\n",
            "\n",
            "Querido Juan,\n",
            "\n",
            "Espero que estés bien.\n",
            "Quería decirte que \"la vida es bella\".\n",
            "\n",
            "Saludos,\n",
            "Ana\n"
          ]
        }
      ],
      "source": [
        "# 5. String con Triple Comillas Dobles\n",
        "string_triple_doble_comillas = \"\"\"Pontia\"\"\"\n",
        "print(string_triple_doble_comillas)\n",
        "\n",
        "# útil para strings que abarcan varias líneas y para incluir comillas simples y dobles sin necesidad de caracteres de escape\n",
        "\n",
        "texto_multilinea = \"\"\"\\nEsta es una línea.\n",
        "Esta es otra línea.\n",
        "Y aquí hay una \"cita\" en una línea nueva.\"\"\"\n",
        "print(texto_multilinea)\n",
        "\n",
        "\n",
        "mensaje = \"\"\"\n",
        "Querido Juan,\n",
        "\n",
        "Espero que estés bien.\n",
        "Quería decirte que \"la vida es bella\".\n",
        "\n",
        "Saludos,\n",
        "Ana\"\"\"\n",
        "print(mensaje)\n"
      ]
    },
    {
      "cell_type": "code",
      "execution_count": null,
      "metadata": {
        "colab": {
          "base_uri": "https://localhost:8080/"
        },
        "id": "T5-wBBPVRPSr",
        "outputId": "45f603de-4f20-4495-c3c1-262216e02811"
      },
      "outputs": [
        {
          "name": "stdout",
          "output_type": "stream",
          "text": [
            "255\n",
            "<class 'str'>\n"
          ]
        }
      ],
      "source": [
        "# 6. String que Contiene un Número\n",
        "string_num = \"255\"\n",
        "print(string_num)\n",
        "\n",
        "# Este es un string que contiene caracteres numéricos.\n",
        "# Aunque parece un número, se almacena y se trata como texto.\n",
        "print(type(string_num))"
      ]
    },
    {
      "cell_type": "code",
      "execution_count": null,
      "metadata": {
        "colab": {
          "base_uri": "https://localhost:8080/"
        },
        "id": "reCBxanYRycR",
        "outputId": "fc364a46-e753-402b-b5e0-2a80970973db"
      },
      "outputs": [
        {
          "name": "stdout",
          "output_type": "stream",
          "text": [
            "<class 'int'>\n",
            "265\n"
          ]
        }
      ],
      "source": [
        "# No podemos realizar operaciones matemáticas directamente sobre este string sin convertirlo primero a un tipo numérico\n",
        "print(string_num + 10)\n",
        "\n",
        "# Lo convertimos a numero con la funcion 'int'\n",
        "numero_entero = int(string_num)\n",
        "print(type(numero_entero))\n",
        "print(numero_entero + 10)"
      ]
    },
    {
      "cell_type": "markdown",
      "metadata": {
        "id": "atNLz46oS8Wu"
      },
      "source": [
        "**La Función input()**\n",
        "\n",
        "- Se utiliza para tomar datos de entrada del usuario\n",
        "- input() pausa el programa y espera a que el usuario ingrese algún texto\n",
        "- Todo lo que el usuario escribe y luego confirma (presionando Enter) se captura como un string\n",
        "- Independientemente de lo que el usuario ingrese, la función input() siempre retorna un valor de tipo **str**."
      ]
    },
    {
      "cell_type": "markdown",
      "metadata": {
        "id": "m4E03NSHUOY6"
      },
      "source": [
        "#### ⭐ Ejemplo input ⭐\n",
        "\n",
        "Usa la función input para pedir al usuario su edad y guarda el valor en una variable.\n",
        "\n",
        "Imprime el tipo de dato de esa variable y modifícalo a tipo número entero (int).\n",
        "\n",
        "Luego imprime en pantalla un mensaje de cuántos años tendrá el usuario el año que viene."
      ]
    },
    {
      "cell_type": "code",
      "execution_count": null,
      "metadata": {
        "colab": {
          "base_uri": "https://localhost:8080/"
        },
        "id": "5xlzY37nRxUm",
        "outputId": "824a9f92-6147-4cb5-f77d-544c2260a2db"
      },
      "outputs": [
        {
          "name": "stdout",
          "output_type": "stream",
          "text": [
            "El próximo año tendrás 27 años.\n"
          ]
        }
      ],
      "source": [
        "# Pedir la edad al usuario\n",
        "edad_string = input(\"Por favor, ingresa tu edad: \")\n",
        "\n",
        "# Imprimir el tipo de dato (debería ser str)\n",
        "print(type(edad_string))\n",
        "\n",
        "# Convertir el string a entero\n",
        "edad_entero = int(edad_string)\n",
        "\n",
        "# Imprimir un mensaje con la edad incrementada usando f-strings\n",
        "print(f\"El próximo año tendrás {edad_entero + 1} años.\")\n"
      ]
    },
    {
      "cell_type": "markdown",
      "metadata": {
        "id": "yDjH9OIKfdh_"
      },
      "source": [
        "#### Resumen str"
      ]
    },
    {
      "cell_type": "code",
      "execution_count": null,
      "metadata": {
        "colab": {
          "base_uri": "https://localhost:8080/"
        },
        "id": "lXeP7puqpDFy",
        "outputId": "bc5913c3-43d9-4422-cdc8-00ed453957e5"
      },
      "outputs": [
        {
          "name": "stdout",
          "output_type": "stream",
          "text": [
            "Pontia\n",
            "<class 'str'>\n",
            "255\n"
          ]
        }
      ],
      "source": [
        "string_simple = 'Pontia'\n",
        "string_doble = \"Pon@tia\"\n",
        "string_con_comillas = '\"Pontia\"'\n",
        "string_con_comillas_escape = \"\\\"Pontia\\\"\"\n",
        "string_triple_doble_comillas = \"\"\"Pontia\"\"\"\n",
        "string_tambien = \"255\"\n",
        "\n",
        "print(string_simple)\n",
        "\n",
        "print(type(string_tambien))\n",
        "print(string_tambien)"
      ]
    },
    {
      "cell_type": "markdown",
      "metadata": {
        "id": "3NpP9KjEfyMr"
      },
      "source": [
        "#### Módulo Keyword\n",
        "\n"
      ]
    },
    {
      "cell_type": "markdown",
      "metadata": {
        "id": "sjtZYzbbkKpW"
      },
      "source": [
        "- El módulo **keyword** proporciona una lista de todas las **palabras reservadas** del lenguaje.\n",
        "- Las palabras reservadas son identificadores que tienen un significado especial en el lenguaje y no pueden ser usadas como nombres de variables, funciones, o cualquier otro identificador.\n",
        "- Vamos a ver cómo podemos imprimir esta lista y contar cuántas palabras reservadas hay en Python"
      ]
    },
    {
      "cell_type": "code",
      "execution_count": null,
      "metadata": {
        "colab": {
          "base_uri": "https://localhost:8080/"
        },
        "id": "8GONO0hsyMAY",
        "outputId": "02b7d484-3f20-49e7-ebce-e95918d17f46"
      },
      "outputs": [
        {
          "name": "stdout",
          "output_type": "stream",
          "text": [
            "['False', 'None', 'True', 'and', 'as', 'assert', 'async', 'await', 'break', 'class', 'continue', 'def', 'del', 'elif', 'else', 'except', 'finally', 'for', 'from', 'global', 'if', 'import', 'in', 'is', 'lambda', 'nonlocal', 'not', 'or', 'pass', 'raise', 'return', 'try', 'while', 'with', 'yield']\n"
          ]
        }
      ],
      "source": [
        "# Imprimir la lista de palabras reservadas en Python\n",
        "print(keyword.kwlist)\n",
        "\n",
        "# Imprimir la cantidad de palabras reservadas\n",
        "print(len(keyword.kwlist))"
      ]
    },
    {
      "cell_type": "markdown",
      "metadata": {
        "id": "WsA7RXIygqSJ"
      },
      "source": [
        "#### Indexación"
      ]
    },
    {
      "cell_type": "markdown",
      "metadata": {
        "id": "ntGMtnOouUoc"
      },
      "source": [
        "\n",
        "**Indexación:**\n",
        "\n",
        "- Inicio desde 0:\n",
        "\n",
        "    En Python, la indexación comienza desde 0.\n",
        "    - Esto significa que el primer elemento de una secuencia tiene índice 0\n",
        "    - El segundo tiene índice 1\n",
        "    - y así sucesivamente.\n",
        "\n",
        "\n",
        "- Acceso a Elementos:\n",
        "\n",
        "  Para acceder a un elemento en una secuencia, simplemente especificamos su índice dentro de corchetes [] después del nombre de la secuencia.\n",
        "  Por ejemplo:\n",
        "  -  cadena[0] accede al primer carácter de una cadena\n",
        "  - lista[3] accede al cuarto elemento de una lista, etc.\n",
        "\n",
        "\n",
        "- Índices Negativos:\n",
        "\n",
        "  Además de los índices positivos, Python permite utilizar índices negativos para contar desde el final de la secuencia.\n",
        "  - -1 se refiere al último elemento\n",
        "  - -2 al penúltimo\n",
        "  - y así sucesivamente."
      ]
    },
    {
      "cell_type": "markdown",
      "metadata": {
        "id": "aUrsNpSf7r8A"
      },
      "source": [
        "Vamos a trabajar estos conceptos con un ejemplo:"
      ]
    },
    {
      "cell_type": "code",
      "execution_count": null,
      "metadata": {
        "colab": {
          "base_uri": "https://localhost:8080/"
        },
        "id": "CsnBxg3uxeN1",
        "outputId": "4e25ab66-3dac-4389-965e-2bbb81fa9e9c"
      },
      "outputs": [
        {
          "data": {
            "text/plain": [
              "6"
            ]
          },
          "execution_count": 30,
          "metadata": {},
          "output_type": "execute_result"
        }
      ],
      "source": [
        "# Declaramos la variable\n",
        "string_simple = 'python'\n",
        "\n",
        "# len => nos da el numero de caracteres que tiene una variable\n",
        "len(string_simple)"
      ]
    },
    {
      "cell_type": "markdown",
      "metadata": {
        "id": "imSvWv7nWKFF"
      },
      "source": [
        "Ejemplo de indexación del string \"*Python*\" &#x1F913;\n",
        "\n",
        "![indexacion_strings.png](data:image/png;base64,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)"
      ]
    },
    {
      "cell_type": "code",
      "execution_count": null,
      "metadata": {
        "colab": {
          "base_uri": "https://localhost:8080/"
        },
        "id": "jirZkJXrxPtD",
        "outputId": "40cfe8bf-2bf7-495e-dae8-ff1b3d3d0ee5"
      },
      "outputs": [
        {
          "name": "stdout",
          "output_type": "stream",
          "text": [
            "p\n",
            "y\n",
            "o\n"
          ]
        }
      ],
      "source": [
        "# Imprime el primer carácter de la cadena 'string_simple' (índice 0 => p)\n",
        "print(string_simple[0])  # Salida: p\n",
        "\n",
        "# Imprime el segundo carácter de la cadena 'string_simple' (índice 1 => y)\n",
        "print(string_simple[1])  # Salida: y\n",
        "\n",
        "# Imprime el quinto carácter de la cadena 'string_simple' (índice 4 => o)\n",
        "print(string_simple[4])  # Salida: o"
      ]
    },
    {
      "cell_type": "code",
      "execution_count": null,
      "metadata": {
        "colab": {
          "base_uri": "https://localhost:8080/",
          "height": 158
        },
        "id": "anrpjtO36ESd",
        "outputId": "1b1bf93c-1f8b-44fa-da1b-f932a4942b46"
      },
      "outputs": [
        {
          "ename": "IndexError",
          "evalue": "string index out of range",
          "output_type": "error",
          "traceback": [
            "\u001b[0;31m---------------------------------------------------------------------------\u001b[0m",
            "\u001b[0;31mIndexError\u001b[0m                                Traceback (most recent call last)",
            "\u001b[0;32m<ipython-input-37-8c397f7f6c44>\u001b[0m in \u001b[0;36m<cell line: 2>\u001b[0;34m()\u001b[0m\n\u001b[1;32m      1\u001b[0m \u001b[0;31m# Si indico un indice mayor a los existentes => da error\u001b[0m\u001b[0;34m\u001b[0m\u001b[0;34m\u001b[0m\u001b[0m\n\u001b[0;32m----> 2\u001b[0;31m \u001b[0mprint\u001b[0m\u001b[0;34m(\u001b[0m\u001b[0mstring_simple\u001b[0m\u001b[0;34m[\u001b[0m\u001b[0;36m6\u001b[0m\u001b[0;34m]\u001b[0m\u001b[0;34m)\u001b[0m  \u001b[0;31m# Salida:\u001b[0m\u001b[0;34m\u001b[0m\u001b[0;34m\u001b[0m\u001b[0m\n\u001b[0m",
            "\u001b[0;31mIndexError\u001b[0m: string index out of range"
          ]
        }
      ],
      "source": [
        "# Si indico un indice mayor a los existentes => da error\n",
        "print(string_simple[6])  # Salida: index out of range"
      ]
    },
    {
      "cell_type": "markdown",
      "metadata": {
        "id": "w8OCfkFj7me8"
      },
      "source": [
        "![indexacion_strings.png](data:image/png;base64,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)"
      ]
    },
    {
      "cell_type": "code",
      "execution_count": null,
      "metadata": {
        "colab": {
          "base_uri": "https://localhost:8080/"
        },
        "id": "cUBqPZgK6Huc",
        "outputId": "ed6691fb-6670-404f-f2e4-07572383df7b"
      },
      "outputs": [
        {
          "name": "stdout",
          "output_type": "stream",
          "text": [
            "n\n",
            "h\n"
          ]
        }
      ],
      "source": [
        "# Imprime el primer carácter desde el final (index: -1 => n)\n",
        "print(string_simple[-1])  # Salida: n\n",
        "\n",
        "# Imprime el tercer carácter desde el final (index: -3 => h)\n",
        "print(string_simple[-3])  # Salida: h"
      ]
    },
    {
      "cell_type": "code",
      "execution_count": null,
      "metadata": {
        "colab": {
          "base_uri": "https://localhost:8080/"
        },
        "id": "OAe4o1OI71ri",
        "outputId": "5fc15c5a-7411-47c1-bd5f-b4d349d3da4e"
      },
      "outputs": [
        {
          "name": "stdout",
          "output_type": "stream",
          "text": [
            "False\n"
          ]
        }
      ],
      "source": [
        "# Compara si el segundo carácter (index: 1 => y)\n",
        "# y el quinto carácter  (index: 4 => o)\n",
        "# de 'string_simple' son iguales\n",
        "print(string_simple[1] == string_simple[4])  # Salida: False"
      ]
    },
    {
      "cell_type": "code",
      "execution_count": null,
      "metadata": {
        "colab": {
          "base_uri": "https://localhost:8080/"
        },
        "id": "I75zJXc68I-S",
        "outputId": "a7cc9bf6-ceef-409d-c63b-e0c06955fbeb"
      },
      "outputs": [
        {
          "name": "stdout",
          "output_type": "stream",
          "text": [
            "True\n"
          ]
        }
      ],
      "source": [
        "# Compara si el segundo carácter (index: 1 => y)\n",
        "# y el indice -5 inverso  (index: -5 => y)\n",
        "# de 'string_simple' son iguales\n",
        "print(string_simple[1] == string_simple[-5])  # Salida: True"
      ]
    },
    {
      "cell_type": "markdown",
      "metadata": {
        "id": "W8P1lZbou3kN"
      },
      "source": [
        "#### **Funciones find() y index():**\n",
        "\n",
        "\n",
        "**find(subcadena):**\n",
        "\n",
        "- Busca la primera ocurrencia de la subcadena especificada dentro de una cadena\n",
        "- Si la subcadena está presente, devuelve el índice donde comienza la primera aparición de la subcadena\n",
        "- Si la subcadena no está presente, devuelve -1.\n",
        "- Es útil cuando se desea realizar una búsqueda y *no se desea lanzar una excepción* si la subcadena no se encuentra.\n",
        "\n",
        "`cadena.find(subcadena)`\n",
        "\n",
        "**index(subcadena):**\n",
        "\n",
        "- Busca la primera ocurrencia de la subcadena dentro de una cadena\n",
        "- Si la subcadena está presente, devuelve el índice donde comienza la primera aparición de la subcadena.\n",
        "- Si la subcadena no está presente, genera un error ValueError.\n",
        "- Es útil cuando se desea realizar una búsqueda y se espera que la subcadena siempre esté presente, ya que se puede *manejar el error* si la subcadena no se encuentra.\n",
        "\n",
        "`cadena.index(subcadena)`"
      ]
    },
    {
      "cell_type": "code",
      "execution_count": null,
      "metadata": {
        "colab": {
          "base_uri": "https://localhost:8080/"
        },
        "id": "IMA9lPhs58Ic",
        "outputId": "e0562093-9753-4a9e-b631-15e8d1c29b33"
      },
      "outputs": [
        {
          "name": "stdout",
          "output_type": "stream",
          "text": [
            "1\n",
            "2\n",
            "-1\n"
          ]
        }
      ],
      "source": [
        "# Busca la primera ocurrencia de 'X' en 'string_simple'\n",
        "# y devuelve su índice.\n",
        "# Si no se encuentra, devuelve -1\n",
        "\n",
        "# Buscamos la el index de la 'y' => 1\n",
        "print(string_simple.find('y'))\n",
        "\n",
        "# Buscamos la el index de la 'thon' => 2,3,4,5 => primera ocurrencia => 2\n",
        "print(string_simple.find('thon'))\n",
        "\n",
        "# 'u' no se encuentra en 'python' => devuelve -1\n",
        "print(string_simple.find('u'))"
      ]
    },
    {
      "cell_type": "code",
      "execution_count": null,
      "metadata": {
        "colab": {
          "base_uri": "https://localhost:8080/"
        },
        "id": "_suVVMTPSTWU",
        "outputId": "aec2eddd-d94a-438b-e3b1-540975fd2779"
      },
      "outputs": [
        {
          "name": "stdout",
          "output_type": "stream",
          "text": [
            "1\n",
            "2\n"
          ]
        }
      ],
      "source": [
        "# Busca la primera ocurrencia de 'X' en 'string_simple'\n",
        "# y devuelve su índice.\n",
        "# Si no se encuentra, lanza un error.\n",
        "\n",
        "# Buscamos la el index de la 'y' => 1\n",
        "print(string_simple.index('y'))\n",
        "\n",
        "# Buscamos la el index de la 'thon' => 2,3,4,5 => primera ocurrencia => 2\n",
        "print(string_simple.index('thon'))\n",
        "\n",
        "# 'u' no se encuentra en 'python' => devuelve error\n",
        "# print(string_simple.index('u'))"
      ]
    },
    {
      "cell_type": "markdown",
      "metadata": {
        "id": "M2EphSzVAkyb"
      },
      "source": [
        "#### 🎈 Ejercicio index 🎈"
      ]
    },
    {
      "cell_type": "markdown",
      "metadata": {
        "id": "RFl0rWA9TU3y"
      },
      "source": [
        "Escribir un programa que busque una subcadena específica en un texto dado y muestre el índice donde comienza la subcadena.\n",
        "\n",
        "Además, buscar la ocurrencia de una letra dentro de un rango de índices en el mismo texto.\n",
        "\n",
        "1. Crea una cadena de texto con el siguiente contenido:\n",
        "\n",
        "\n",
        "> \"Todos han jugado al paddel pero yo nunca lo he jugado\"\n",
        "\n",
        "2. Busca la palabra \"paddel\" y almacena el índice en \"indice_paddel\" y muestra su resultado\n",
        "\n",
        "3. Busca la letra 'a' dentro del rango [2,11]\n",
        "\n",
        "4. Busca la letra 'e' dentro del rango [2,11] y que NO lance error en caso de no encontrarla\n",
        "\n",
        "\n",
        "\n"
      ]
    },
    {
      "cell_type": "code",
      "execution_count": null,
      "metadata": {
        "id": "twqj68bNWa0b"
      },
      "outputs": [],
      "source": [
        "# Crea la cadena de texto\n",
        "# txt =\n",
        "\n",
        "# Busca la palabra \"paddel\" en la cadena 'txt' y\n",
        "# almacena el índice de inicio en 'indice_paddel'\n",
        "\n",
        "# Notese: los espacios cuentan como caracter y tienen asignado un indice\n",
        "\n",
        "# Imprime el índice donde comienza la subcadena \"paddel\"\n",
        "\n",
        "# Buscar la letra 'a' entre los índices 2 y 11 de la cadena 'txt'\n",
        "\n",
        "\n",
        "# Buscar la letra 'e' entre los índices 2 y 11 de la cadena 'txt'\n",
        "# Si la letra 'e' no se encuentra en ese rango, la función index() lanzaría un error.\n",
        "\n",
        "\n",
        "# Si usamos index => lanza error\n",
        "# e_index = txt.index(\"e\", 2, 11)\n"
      ]
    },
    {
      "cell_type": "markdown",
      "metadata": {
        "id": "ZySWRyqMYfEC"
      },
      "source": [
        "#### Otras funciones\n",
        "\n",
        "- capitalize()\n",
        "- upper()\n",
        "- lower()\n",
        "- isupper()\n",
        "- islower()\n",
        "- isalpha()\n",
        "- isnumeric()\n",
        "- replace('esto', 'por esto')\n",
        "- strip()\n",
        "- lstrip()\n",
        "- rstrip()\n",
        "- title()\n",
        "- swapcase()"
      ]
    },
    {
      "cell_type": "code",
      "execution_count": null,
      "metadata": {
        "colab": {
          "base_uri": "https://localhost:8080/"
        },
        "id": "ojIJKOe3YRLb",
        "outputId": "e2ab9a62-3e26-44db-eab6-e573bb803a71"
      },
      "outputs": [
        {
          "name": "stdout",
          "output_type": "stream",
          "text": [
            "hoy es martes 20\n",
            "Hoy es martes 20\n",
            "HOY ES MARTES 20\n",
            "hoy es martes 20\n",
            "False\n",
            "True\n",
            "False\n",
            "False\n",
            "hoa es martes 20\n",
            " oa es martes 20\n",
            "xmartes 20\n"
          ]
        }
      ],
      "source": [
        "string_simple = \"hoy es martes 20\"\n",
        "print(string_simple)\n",
        "\n",
        "# Convertir la primera letra de 'string_simple' a mayúscula\n",
        "print(string_simple.capitalize())\n",
        "\n",
        "# Convertir todos los caracteres de 'string_simple' a mayúsculas\n",
        "print(string_simple.upper())\n",
        "\n",
        "# Alternativa para convertir todos los caracteres a minúsculas\n",
        "print(string_simple.lower())\n",
        "\n",
        "# Verificar si todos los caracteres en 'string_simple' están en mayúsculas\n",
        "print(string_simple.isupper())\n",
        "\n",
        "# Alternativa para verificar si todos los caracteres están en minúsculas\n",
        "print(string_simple.islower())\n",
        "\n",
        "# Verificar si todos los caracteres en 'string_simple' son alfabéticos\n",
        "print(string_simple.isalpha())\n",
        "\n",
        "# Verificar si todos los caracteres en 'string_simple' son numéricos\n",
        "print(string_simple.isnumeric())\n",
        "\n",
        "# Reemplazar 'y' por 'a' en 'string_simple', luego 'h' por espacio\n",
        "print(string_simple.replace('y','a'))\n",
        "\n",
        "print(string_simple.replace('y','a').replace('h',' '))\n",
        "\n",
        "# Reemplazar 'hoy es ' por 'x' en 'string_simple'\n",
        "print(string_simple.replace('hoy es ','x'))"
      ]
    },
    {
      "cell_type": "code",
      "execution_count": null,
      "metadata": {
        "id": "bY5m41KvaP-0"
      },
      "outputs": [],
      "source": [
        "# Nuestra variable original NO esta siendo cambiada\n",
        "# para guardar el cambio tendríamos que asignarlo a una variable\n",
        "\n",
        "print(string_simple.upper())\n",
        "print(string_simple)\n",
        "\n",
        "# Asignamos a una variable\n",
        "string_upper = string_simple.upper()\n",
        "print(string_upper)"
      ]
    },
    {
      "cell_type": "code",
      "execution_count": null,
      "metadata": {
        "colab": {
          "base_uri": "https://localhost:8080/",
          "height": 35
        },
        "id": "UqdXQynldwFS",
        "outputId": "4a1882cc-4077-4b57-8786-2d914a0e0768"
      },
      "outputs": [
        {
          "data": {
            "application/vnd.google.colaboratory.intrinsic+json": {
              "type": "string"
            },
            "text/plain": [
              "'HELLO'"
            ]
          },
          "execution_count": 107,
          "metadata": {},
          "output_type": "execute_result"
        }
      ],
      "source": [
        "# Estas funciones se llaman con el objeto.upper()\n",
        "'hello'.upper()\n",
        "\n",
        "# Si pusieramos upper(objeto) nos va a dar error\n",
        "# .upper('hello')\n",
        "\n",
        "# .upper() takes no arguments (1 given)"
      ]
    },
    {
      "cell_type": "code",
      "execution_count": null,
      "metadata": {
        "colab": {
          "base_uri": "https://localhost:8080/"
        },
        "id": "rktAOKUkYVBB",
        "outputId": "cf694856-9772-4e24-9a2d-e2e2a9594314"
      },
      "outputs": [
        {
          "name": "stdout",
          "output_type": "stream",
          "text": [
            "~~~Python~~~\n",
            "Python\n"
          ]
        }
      ],
      "source": [
        "# Uso del método STRIP para limpiar caracteres no deseados en los extremos de una cadena\n",
        "\n",
        "# Definir una cadena con caracteres '~' alrededor de la palabra 'Python'\n",
        "ejemplo_strip_simple = \"~~~Python~~~\"\n",
        "\n",
        "# Imprimir la cadena original\n",
        "print(ejemplo_strip_simple)\n",
        "\n",
        "# Eliminar todos los caracteres '~' de los extremos de la cadena\n",
        "variable_limpia = ejemplo_strip_simple.strip(\"~\")\n",
        "\n",
        "# Imprimir la cadena 'limpia'\n",
        "print(variable_limpia)\n"
      ]
    },
    {
      "cell_type": "code",
      "execution_count": null,
      "metadata": {
        "colab": {
          "base_uri": "https://localhost:8080/"
        },
        "id": "95mHtfQrZVr1",
        "outputId": "f965ebc5-da37-4b43-b668-0f4014b059ad"
      },
      "outputs": [
        {
          "name": "stdout",
          "output_type": "stream",
          "text": [
            "Python\n"
          ]
        }
      ],
      "source": [
        "# Definir una cadena con una mezcla de '.' y '-' alrededor de la palabra 'Python'\n",
        "ejemplo_strip = \"----------.--Py-thon----|-----.---\"\n",
        "\n",
        "# Eliminar todos los caracteres '.' y '-' de los extremos\n",
        "variable_limpia = ejemplo_strip.strip(\".-|\")\n",
        "print(variable_limpia)\n",
        "\n",
        "# Quitamos el - del interior con replace\n",
        "print(variable_limpia.replace('-',''))"
      ]
    },
    {
      "cell_type": "code",
      "execution_count": null,
      "metadata": {
        "colab": {
          "base_uri": "https://localhost:8080/"
        },
        "id": "Ybzpol_McOmO",
        "outputId": "76853c5b-4f93-4392-a6f7-5d8af54e6897"
      },
      "outputs": [
        {
          "name": "stdout",
          "output_type": "stream",
          "text": [
            "Py-thon\n"
          ]
        }
      ],
      "source": [
        "print(ejemplo_strip)\n",
        "\n",
        "# Eliminar solo los caracteres '.' de los extremos\n",
        "# => como lo primero que hay en los extremos es '-' NO hace nada\n",
        "variable_limpia = ejemplo_strip.strip(\".\")\n",
        "print(variable_limpia)\n",
        "\n",
        "# Eliminar solo los caracteres '-' de los extremos\n",
        "variable_limpia = ejemplo_strip.strip(\"-\")\n",
        "print(variable_limpia)\n",
        "\n",
        "# Eliminar caracteres de la izquierda\n",
        "print(ejemplo_strip.lstrip(\".-\"))\n",
        "\n",
        "# Eliminar caracteres de la derecha\n",
        "print(ejemplo_strip.rstrip(\".-|\"))\n",
        "\n",
        "print(ejemplo_strip.lstrip(\".-\").rstrip(\".-|\"))\n",
        "print(ejemplo_strip.strip(\".-|\"))"
      ]
    },
    {
      "cell_type": "code",
      "execution_count": null,
      "metadata": {
        "colab": {
          "base_uri": "https://localhost:8080/"
        },
        "id": "7yyaijZkYYMf",
        "outputId": "8f3fd67e-5178-4fa0-ab9f-78690396fc87"
      },
      "outputs": [
        {
          "name": "stdout",
          "output_type": "stream",
          "text": [
            "Hola, Este Seria Un Titulo De Ejemplo\n",
            "hOLA, eSTE sERIA uN tITULO dE eJEMPLO\n"
          ]
        }
      ],
      "source": [
        "# Convertir la cadena a formato de título\n",
        "# Cada palabra: su inicial se pone en mayuscula\n",
        "txt = \"hola, este seria un titulo de ejemplo\"\n",
        "print(txt.title())\n",
        "\n",
        "# mayúsculas por minúsculas y viceversa.\n",
        "print(txt.title().swapcase())"
      ]
    },
    {
      "cell_type": "markdown",
      "metadata": {
        "id": "fnfD_9VvfhBD"
      },
      "source": [
        "#### format string"
      ]
    },
    {
      "cell_type": "code",
      "execution_count": null,
      "metadata": {
        "colab": {
          "base_uri": "https://localhost:8080/"
        },
        "id": "qFEL9M_Cfqjh",
        "outputId": "d2c39a07-a122-4695-bdc6-b0d0b0bde57f"
      },
      "outputs": [
        {
          "name": "stdout",
          "output_type": "stream",
          "text": [
            "Mi nombre es Silvia y tengo 26 años.\n"
          ]
        }
      ],
      "source": [
        "nombre = 'Silvia'\n",
        "edad = 26\n",
        "\n",
        "print(f\"Mi nombre es {nombre} y tengo {edad} años.\")"
      ]
    },
    {
      "cell_type": "code",
      "execution_count": null,
      "metadata": {
        "colab": {
          "base_uri": "https://localhost:8080/"
        },
        "id": "u2MiKqC2fvG6",
        "outputId": "24f20829-5280-4e13-ed93-8865c51e9603"
      },
      "outputs": [
        {
          "name": "stdout",
          "output_type": "stream",
          "text": [
            "Mi nombre es silvia y tengo 26 años.\n",
            "Mi nombre es Silvia y tengo 26 años.\n"
          ]
        }
      ],
      "source": [
        "nombre = 'silvia'\n",
        "edad = 26\n",
        "\n",
        "print(f\"Mi nombre es {nombre} y tengo {edad} años.\")\n",
        "print(f\"Mi nombre es {nombre.capitalize()} y tengo {edad} años.\")"
      ]
    },
    {
      "cell_type": "markdown",
      "metadata": {
        "id": "m-a1MagsgBTu"
      },
      "source": [
        "En lugar de poner de indicar que vamos a formatear los string con una \"f\" y poner la variable directamente entre {variable}  => podemos dejarlo vacío, **{}**, (placeholder) e indicar el formateo con **.format(variable)**"
      ]
    },
    {
      "cell_type": "code",
      "execution_count": null,
      "metadata": {
        "colab": {
          "base_uri": "https://localhost:8080/"
        },
        "id": "5Cxplegjf4TE",
        "outputId": "ab6c2b42-2a80-4bfa-cc3d-9cbf55af1687"
      },
      "outputs": [
        {
          "name": "stdout",
          "output_type": "stream",
          "text": [
            "Mi nombre es silvia y tengo 26 años.\n"
          ]
        }
      ],
      "source": [
        "print(\"Mi nombre es {} y tengo {} años.\".format(nombre, edad))"
      ]
    },
    {
      "cell_type": "markdown",
      "metadata": {
        "id": "ngkSr_Xaxloh"
      },
      "source": [
        "**1. Usando f-strings:**\n",
        "\n",
        "- f-strings (formatted string literals) permiten incluir expresiones dentro de las llaves {} que se evaluarán en tiempo de ejecución.\n",
        "\n",
        "**2. Usando el método format():**\n",
        "\n",
        "- El método format() se utiliza para insertar valores en una cadena.\n",
        "\n",
        "- Las llaves {} dentro de la cadena son reemplazadas por los valores pasados a format().\n",
        "\n",
        "**3. Usando el método format() con una variable de palabra clave:**\n",
        "\n",
        "- Aquí, *altura* se pasa como una palabra clave con el valor *1.625* directamente en el método format().\n",
        "\n",
        "\n",
        " \"f\" = float\n",
        "\n",
        " {variable:.0f} : especifica 0 decimales para el valor de la variable => int\n",
        "\n",
        " {variable:.1f} : especifica 1 decimal para el valor de la variable\n",
        "\n",
        "{variable:.2f} : especifica 2 decimales para el valor de la variable"
      ]
    },
    {
      "cell_type": "code",
      "execution_count": null,
      "metadata": {
        "colab": {
          "base_uri": "https://localhost:8080/"
        },
        "id": "-bEejfzGwdrB",
        "outputId": "afd42b80-2834-4868-c94c-4695cfcc3c33"
      },
      "outputs": [
        {
          "name": "stdout",
          "output_type": "stream",
          "text": [
            "Mi altura es 1.62 metros.\n",
            "Mi altura es 1.62 metros.\n",
            "Mi altura es 1.77 metros.\n"
          ]
        }
      ],
      "source": [
        "altura = 1.625\n",
        "\n",
        "# 1. f-strings\n",
        "print(f\"Mi altura es {altura:.2f} metros.\")\n",
        "\n",
        "# 2. {} y format(variable)\n",
        "# Si dejamos el espacio vacio => con format indicamos el valor a sustituir\n",
        "print(\"Mi altura es {:.2f} metros.\".format(altura))\n",
        "\n",
        "# 3. {variable} y format(variable=valor)\n",
        "print(\"Mi altura es {altura:.2f} metros.\".format(altura=1.768))\n",
        "\n",
        "# {altura:.2f} indica que queremos mostrar el valor de altura con dos decimales.\n"
      ]
    },
    {
      "cell_type": "code",
      "execution_count": null,
      "metadata": {
        "colab": {
          "base_uri": "https://localhost:8080/"
        },
        "id": "1vMbfTcByqe8",
        "outputId": "818ac56d-6e98-4510-d696-e552155482c7"
      },
      "outputs": [
        {
          "name": "stdout",
          "output_type": "stream",
          "text": [
            "Ese armario mide 2.0 metros.\n"
          ]
        }
      ],
      "source": [
        "# Ejemplo 1 decimal\n",
        "cadena_1f = \"Ese armario mide {altura:.1f} metros.\"\n",
        "print(cadena_1f.format(altura=2))"
      ]
    },
    {
      "cell_type": "code",
      "execution_count": null,
      "metadata": {
        "colab": {
          "base_uri": "https://localhost:8080/"
        },
        "id": "OQ6S_o0yy76l",
        "outputId": "1d88fb01-ce65-438c-d42e-dfc091dd01c5"
      },
      "outputs": [
        {
          "name": "stdout",
          "output_type": "stream",
          "text": [
            "El precio de la cafetera es de 256 rupias.\n"
          ]
        }
      ],
      "source": [
        "# Ejemplo 0 decimales\n",
        "cadena_0f = \"El precio de la cafetera es de {precio:.0f} rupias.\" # \"f\" = float\n",
        "print(cadena_0f.format(precio=255.99))"
      ]
    },
    {
      "cell_type": "code",
      "execution_count": null,
      "metadata": {
        "colab": {
          "base_uri": "https://localhost:8080/"
        },
        "id": "ffXd89lm13U1",
        "outputId": "9d358066-32ae-4f9d-909e-3a9c0b245e8a"
      },
      "outputs": [
        {
          "name": "stdout",
          "output_type": "stream",
          "text": [
            "El animal no se escribe baca , se dice VACA\n"
          ]
        }
      ],
      "source": [
        "# Ejemplo strip + replace\n",
        "# f-string\n",
        "string_simple = '------baca'\n",
        "print(f\"El animal no se escribe {string_simple.lstrip('-')}, \\\n",
        "se dice {string_simple.replace('b','v').upper().lstrip('-')}\")"
      ]
    },
    {
      "cell_type": "code",
      "execution_count": null,
      "metadata": {
        "colab": {
          "base_uri": "https://localhost:8080/"
        },
        "id": "YYPMGV78zEP4",
        "outputId": "8b6d97ab-74f4-4204-f3e1-9531107d8f61"
      },
      "outputs": [
        {
          "name": "stdout",
          "output_type": "stream",
          "text": [
            "El animal no se escribe baca, se dice VACA\n"
          ]
        }
      ],
      "source": [
        "# Ejemplo strip + replace\n",
        "# format\n",
        "string_simple = '------baca'\n",
        "print(\"El animal no se escribe {}, se dice {}\"\n",
        "      .format(string_simple.lstrip(\"-\"), string_simple.replace('b','v').upper().lstrip(\"-\")))"
      ]
    },
    {
      "cell_type": "markdown",
      "metadata": {
        "id": "Jo4ykP9xOTbS"
      },
      "source": [
        "### 4.2. Datos numéricos"
      ]
    },
    {
      "cell_type": "markdown",
      "metadata": {
        "id": "xOezisUI7npJ"
      },
      "source": [
        "En Python, los tipos de datos numéricos más comunes son int, float y complex.\n",
        "\n",
        "- **Enteros (int):** Representan números enteros sin decimales. Pueden ser positivos o negativos.\n",
        "\n",
        "- **Flotantes (float):** Representan números con decimales. Se definen utilizando un **punto** decimal.\n",
        "\n",
        "- **Complejos (complex):** Representan números complejos que constan de una parte real y una parte imaginaria, ambas siendo números flotantes.\n",
        "\n",
        "Cuando se realizan operaciones numéricas que involucran diferentes tipos de datos, Python realiza la **promoción de tipos** para garantizar que los resultados sean precisos y no se pierda información.\n",
        "\n",
        "En la promoción de tipos, el tipo numérico \"más pequeño\" se convierte automáticamente al tipo \"más grande\" para realizar la operación.\n",
        "\n",
        "> int => float => complex\n",
        "\n"
      ]
    },
    {
      "cell_type": "code",
      "execution_count": null,
      "metadata": {
        "colab": {
          "base_uri": "https://localhost:8080/"
        },
        "id": "boRejO4Y8W-d",
        "outputId": "e3fab81c-74ce-475c-d079-389ab46fe803"
      },
      "outputs": [
        {
          "name": "stdout",
          "output_type": "stream",
          "text": [
            "El número: 10 es de tipo <class 'int'>\n",
            "El número: 3.5 es de tipo <class 'float'>\n",
            "El número: (1+2j) es de tipo <class 'complex'>\n",
            "1.0\n",
            "2.0\n",
            "El número: (1+2j) es de tipo <class 'complex'>, \n",
            " su parte real es 1.0 y su parte imaginaria es 2.0\n"
          ]
        }
      ],
      "source": [
        "# Ejemplos de tipos de datos numéricos en Python\n",
        "\n",
        "# Definición de un número entero (int)\n",
        "numero_entero = 10\n",
        "print(f\"El número: {numero_entero} es de tipo {type(numero_entero)}\" )\n",
        "\n",
        "# Definición de un número con decimales (float)\n",
        "numero_decimal = 3.5\n",
        "print(f\"El número: {numero_decimal} es de tipo {type(numero_decimal)}\" )\n",
        "\n",
        "# Definición de un número complejo (complex)\n",
        "# Un número complejo tiene una parte real y una parte imaginaria\n",
        "numero_complejo = 1+2j\n",
        "print(f\"El número: {numero_complejo} es de tipo {type(numero_complejo)}\" )\n",
        "\n",
        "# Para acceder a la parte real o imaginaria de un número complejo, se hace así:\n",
        "# Parte real\n",
        "parte_real = numero_complejo.real\n",
        "print(parte_real)\n",
        "# Parte imaginaria\n",
        "parte_imaginaria = numero_complejo.imag\n",
        "print(parte_imaginaria)\n",
        "\n",
        "# Ejemplo de impresión de las partes de un número complejo\n",
        "print(f\"El número: {numero_complejo} es de tipo {type(numero_complejo)}, \\n \\\n",
        "su parte real es {parte_real} y su parte imaginaria es {parte_imaginaria}\")\n",
        "\n"
      ]
    },
    {
      "cell_type": "code",
      "execution_count": null,
      "metadata": {
        "colab": {
          "base_uri": "https://localhost:8080/"
        },
        "id": "c1yBP0zd9Mbc",
        "outputId": "3c8660e1-1a94-49e3-be69-05476f3ec692"
      },
      "outputs": [
        {
          "name": "stdout",
          "output_type": "stream",
          "text": [
            "\n",
            "--------\n",
            "10 + 3.5 = 13.5\n",
            "El número: 13.5 es de tipo <class 'float'>\n",
            "\n",
            "--------\n",
            "3.5 + 1+2j = (4.5+2j)\n",
            "El número: (4.5+2j) es de tipo <class 'complex'>\n",
            "\n",
            "--------\n",
            "10 + 1+2j = (11+2j)\n",
            "El número: (11+2j) es de tipo <class 'complex'>\n"
          ]
        }
      ],
      "source": [
        "# Ejemplos de promoción de tipos\n",
        "numero_entero = 10\n",
        "numero_decimal = 3.5\n",
        "numero_complejo = 1+2j\n",
        "\n",
        "print(\"\\n--------\")\n",
        "print(f\"10 + 3.5 = {numero_entero + numero_decimal}\")\n",
        "print(f\"El número: {numero_entero + numero_decimal} es de tipo {type(numero_entero + numero_decimal)}\" )\n",
        "\n",
        "print(\"\\n--------\")\n",
        "print(f\"3.5 + 1+2j = {numero_decimal + numero_complejo}\")\n",
        "print(f\"El número: {numero_decimal + numero_complejo} es de tipo {type(numero_decimal + numero_complejo)}\" )\n",
        "\n",
        "print(\"\\n--------\")\n",
        "print(f\"10 + 1+2j = {numero_entero + numero_complejo}\")\n",
        "print(f\"El número: {numero_entero + numero_complejo} es de tipo {type(numero_entero + numero_complejo)}\" )\n",
        "\n"
      ]
    },
    {
      "cell_type": "markdown",
      "metadata": {
        "id": "nuzIbs6BPfHG"
      },
      "source": [
        "#### ⭐ Ejemplo datos numéricos ⭐\n",
        "\n",
        "Define en una variable el valor 25 y en otra el valor 5.5, súmalos e imprime tanto el resultado como el tipo de dato generado"
      ]
    },
    {
      "cell_type": "code",
      "execution_count": null,
      "metadata": {
        "colab": {
          "base_uri": "https://localhost:8080/"
        },
        "id": "xUh17pY3PuGE",
        "outputId": "60815418-7e74-4604-8d05-46635c20c1cb"
      },
      "outputs": [
        {
          "name": "stdout",
          "output_type": "stream",
          "text": [
            "El resultado de sumar 25 + 5.5 = 30.5, que de tipo decimal: <class 'float'>\n"
          ]
        }
      ],
      "source": [
        "a=25\n",
        "b=5.5\n",
        "c=a+b\n",
        "\n",
        "print(f\"El resultado de sumar {a} + {b} = {c}, que de tipo decimal: {type(c)}\")"
      ]
    },
    {
      "cell_type": "markdown",
      "metadata": {
        "id": "PeuiPFekOXi5"
      },
      "source": [
        "### 4.3. Datos lógicos"
      ]
    },
    {
      "cell_type": "markdown",
      "metadata": {
        "id": "vkIH4yBX_dIC"
      },
      "source": [
        "- Una variable booleana es un tipo de dato que puede tener uno de dos valores: True o False.\n",
        "\n",
        "- Se utilizan en expresiones lógicas y en condicionales para controlar el flujo de un programa.\n",
        "\n",
        "**Condicionales:**\n",
        "\n",
        "- Los condicionales son estructuras de **control de flujo** que permiten ejecutar cierto código solo si una condición específica se cumple.\n",
        "\n",
        "```\n",
        "if condicion:\n",
        "    # código a ejecutar si la condición es verdadera\n",
        "else:\n",
        "    # código a ejecutar si la condición es falsa\n",
        "\n",
        " ```"
      ]
    },
    {
      "cell_type": "code",
      "execution_count": null,
      "metadata": {
        "colab": {
          "base_uri": "https://localhost:8080/"
        },
        "id": "a_md4lP9AMQd",
        "outputId": "20892a6d-92d6-4e03-a4a0-995895a3e8b4"
      },
      "outputs": [
        {
          "name": "stdout",
          "output_type": "stream",
          "text": [
            "buleano_f: False, <class 'bool'>\n",
            "buleano_t: True, <class 'bool'>\n"
          ]
        }
      ],
      "source": [
        "# Definición de variables booleanas\n",
        "buleano_f = False\n",
        "buleano_t = True\n",
        "\n",
        "print(f\"buleano_f: {buleano_f}, {type(buleano_f)}\")\n",
        "print(f\"buleano_t: {buleano_t}, {type(buleano_t)}\")"
      ]
    },
    {
      "cell_type": "code",
      "execution_count": null,
      "metadata": {
        "colab": {
          "base_uri": "https://localhost:8080/"
        },
        "id": "8YuXU-NDYldo",
        "outputId": "ee3c4c5a-6cc0-46cf-c9af-a0a91c57a516"
      },
      "outputs": [
        {
          "name": "stdout",
          "output_type": "stream",
          "text": [
            "Soy verdadero :)\n",
            "-----------------------------------------\n",
            "No soy verdadero, soy falso :(\n"
          ]
        }
      ],
      "source": [
        "\n",
        "# Esta sección demuestra un condicional básico utilizando una variable booleana.\n",
        "# Si 'buleano_t' es True,\n",
        "# imprime \"Soy verdadero\".\n",
        "# De lo contrario, imprime \"No soy verdadero :(\"\n",
        "if buleano_t:\n",
        "  print(\"Soy verdadero :)\")\n",
        "else:\n",
        "  print(\"No soy verdadero, soy falso :(\")\n",
        "\n",
        "\n",
        "print(\"-----------------------------------------\")\n",
        "# Si 'buleano_t' es True,\n",
        "# imprime \"Soy verdadero\".\n",
        "# De lo contrario, imprime \"No soy verdadero :(\"\n",
        "\n",
        "if buleano_f:\n",
        "  print(\"Soy verdadero\")\n",
        "else:\n",
        "  print(\"No soy verdadero, soy falso :(\")"
      ]
    },
    {
      "cell_type": "code",
      "execution_count": null,
      "metadata": {
        "colab": {
          "base_uri": "https://localhost:8080/"
        },
        "id": "itL3bArDAmFu",
        "outputId": "9c68851c-b1b1-4646-e406-078d89379a84"
      },
      "outputs": [
        {
          "name": "stdout",
          "output_type": "stream",
          "text": [
            "[0, 1, 2, 3, 4, 5, 6, 7, 8, 9]\n",
            "[]\n",
            "<class 'list'> <class 'list'>\n"
          ]
        }
      ],
      "source": [
        "# Creación de un rango de números del 0 al 9 y conversión a lista\n",
        "rango = range(10)\n",
        "lista_de_numeros = list(rango)\n",
        "print(lista_de_numeros)\n",
        "\n",
        "# Inicialización de una lista vacía\n",
        "lista_de_numeros_vacia = []\n",
        "\n",
        "# Imprime el tipo de la variable 'lista_de_numeros', que sería <class 'list'>\n",
        "print(lista_de_numeros_vacia)\n",
        "print(type(lista_de_numeros),type(lista_de_numeros_vacia))"
      ]
    },
    {
      "cell_type": "code",
      "execution_count": null,
      "metadata": {
        "colab": {
          "base_uri": "https://localhost:8080/"
        },
        "id": "GZRqNADZOerR",
        "outputId": "8437eac2-c9da-4625-edb9-2a624cf05e21"
      },
      "outputs": [
        {
          "name": "stdout",
          "output_type": "stream",
          "text": [
            "Soy verdadero: tengo elementos\n",
            "-----------------------------------------\n",
            "No soy verdadero: estoy vacía\n"
          ]
        }
      ],
      "source": [
        "# Este condicional verifica si 'lista_de_numeros' tiene elementos.\n",
        "# Una lista vacía se evalúa a False en un contexto booleano.\n",
        "# Por lo tanto, si la lista está vacía, imprimirá \"No soy verdadero :(\".\n",
        "if lista_de_numeros:\n",
        "  print(\"Soy verdadero: tengo elementos\")\n",
        "else:\n",
        "  print(\"No soy verdadero: estoy vacía\")\n",
        "\n",
        "print(\"-----------------------------------------\")\n",
        "\n",
        "if lista_de_numeros_vacia:\n",
        "  print(\"Soy verdadero: tengo elementos\")\n",
        "else:\n",
        "  print(\"No soy verdadero: estoy vacía\")\n",
        "\n"
      ]
    },
    {
      "cell_type": "code",
      "execution_count": null,
      "metadata": {
        "colab": {
          "base_uri": "https://localhost:8080/"
        },
        "id": "_0rb6QSmYpgH",
        "outputId": "40a206d3-be81-4286-a649-d1d66db00b24"
      },
      "outputs": [
        {
          "name": "stdout",
          "output_type": "stream",
          "text": [
            "<class 'NoneType'>\n",
            "No soy verdadero: tengo valor null/vacio\n"
          ]
        }
      ],
      "source": [
        "# Definición de una variable con el valor None,\n",
        "# que representa la \"nada\" o un valor nulo en Python\n",
        "vacio = None\n",
        "\n",
        "# Imprime el tipo de la variable 'vacio', que sería <class 'NoneType'>\n",
        "print(type(vacio))\n",
        "\n",
        "# Este condicional verifica si 'vacio' tiene algún valor.\n",
        "# 'vacio' tiene asignado None, que se evalúa a False en un contexto booleano.\n",
        "# Por lo tanto, imprimirá \"No soy verdadero :(\".\n",
        "if vacio:\n",
        "  print(\"Soy verdadero: no tengo valor vacío\")\n",
        "else:\n",
        "  print(\"No soy verdadero: tengo valor null/vacio\")"
      ]
    },
    {
      "cell_type": "markdown",
      "metadata": {
        "id": "ffyCBSFlttrH"
      },
      "source": [
        "### 4.4. De recolección (\"Collection data\") &#x1F4DA;"
      ]
    },
    {
      "cell_type": "markdown",
      "metadata": {
        "id": "MvYTlLArOD99"
      },
      "source": [
        "#### Listas\n",
        "\n",
        "Una lista es una colección ordenada y mutable de elementos. Se caracteriza por:\n",
        "\n",
        "- **Mutables:** Los elementos de una lista pueden ser modificados después de la creación de la lista.\n",
        "\n",
        "- **Indexados:** Los elementos de una lista se pueden acceder mediante su índice, que comienza en 0 para el primer elemento.\n",
        "\n",
        "- **Definidas con corchetes \"[ ]\":** Se utilizan corchetes para definir una lista, y los elementos de la lista se separan por comas."
      ]
    },
    {
      "cell_type": "markdown",
      "metadata": {
        "id": "-kzy7EdykAib"
      },
      "source": [
        "\n",
        "\n",
        "\n",
        "\n",
        "- ***Funcion len(objeto):*** obtener la longitud de una lista, es decir, el número de elementos que contiene\n",
        "\n"
      ]
    },
    {
      "cell_type": "code",
      "execution_count": null,
      "metadata": {
        "colab": {
          "base_uri": "https://localhost:8080/"
        },
        "id": "_pbKNwmeYtoY",
        "outputId": "e885d23e-b175-4863-8004-35ca1da5780f"
      },
      "outputs": [
        {
          "name": "stdout",
          "output_type": "stream",
          "text": [
            "[8, 55, 9.26, 3402, 15.0]\n",
            "5\n",
            "<class 'list'>\n",
            "3489.26\n"
          ]
        }
      ],
      "source": [
        "# Creación de listas en Python\n",
        "\n",
        "# Lista de números, incluye tanto enteros como flotantes\n",
        "\n",
        "lista_numerica = [8, 55, 9.26, 3402, 15.0]\n",
        "\n",
        "print(lista_numerica)\n",
        "print(len(lista_numerica))\n",
        "print(type(lista_numerica))\n",
        "print(sum(lista_numerica))\n"
      ]
    },
    {
      "cell_type": "code",
      "execution_count": null,
      "metadata": {
        "colab": {
          "base_uri": "https://localhost:8080/"
        },
        "id": "Pmi936yhil4q",
        "outputId": "2b9ac1a8-67fa-4ee0-d144-a0f366cc0d57"
      },
      "outputs": [
        {
          "name": "stdout",
          "output_type": "stream",
          "text": [
            "['Hogwarts', 'Dumbledore', 'Harry', 'Hedwig', 'Quidditch', 'Voldemort', 'Hermione', 'Slytherin', 'Gryffindor', 'Hogsmeade', 'Hogwarts', 'Butterbeer', 'HarryExpelliarmus', 'Patronus', 'Muggle', 'Ron', 'Deathly Hallows', 'Azkaban', 'Hogwarts', 'Polyjuice Potion']\n",
            "20\n",
            "<class 'list'>\n"
          ]
        }
      ],
      "source": [
        "\n",
        "# Lista de cadenas de texto, algunos elementos se repiten, como ''Hogwarts','.\n",
        "\n",
        "lista_string = ['Hogwarts', 'Dumbledore', 'Harry', 'Hedwig', 'Quidditch', 'Voldemort', 'Hermione',\n",
        "                'Slytherin', 'Gryffindor', 'Hogsmeade', 'Hogwarts', 'Butterbeer', 'Harry' 'Expelliarmus',\n",
        "                'Patronus', 'Muggle', 'Ron', 'Deathly Hallows', 'Azkaban', 'Hogwarts','Polyjuice Potion']\n",
        "\n",
        "print(lista_string)\n",
        "print(len(lista_string))\n",
        "print(type(lista_string))"
      ]
    },
    {
      "cell_type": "code",
      "execution_count": null,
      "metadata": {
        "colab": {
          "base_uri": "https://localhost:8080/"
        },
        "id": "-p5Al-W2SOaR",
        "outputId": "4c6475db-4a08-4366-c138-2aa3ffe50cc0"
      },
      "outputs": [
        {
          "name": "stdout",
          "output_type": "stream",
          "text": [
            "['pontia', 4, 137.5, 'hello']\n",
            "4\n",
            "<class 'list'>\n"
          ]
        }
      ],
      "source": [
        "# Lista mixta que contiene cadenas de texto y números\n",
        "lista_mixta = ['pontia', 4, 137.5, 'hello']\n",
        "\n",
        "print(lista_mixta)\n",
        "print(len(lista_mixta))\n",
        "print(type(lista_mixta))"
      ]
    },
    {
      "cell_type": "code",
      "execution_count": null,
      "metadata": {
        "colab": {
          "base_uri": "https://localhost:8080/"
        },
        "id": "2MAK_vR3lkKE",
        "outputId": "bda54679-ebbe-440d-bc7d-cbd18648560d"
      },
      "outputs": [
        {
          "name": "stdout",
          "output_type": "stream",
          "text": [
            "El primer elemento de nuestra lista, index 0, es: pontia\n",
            "El segundo elemento de nuestra lista, index 1, es: 4\n",
            "El tercer elemento de nuestra lista, index 2, es: 137.5\n",
            "El cuarto elemento de nuestra lista, index 3, es: hello\n"
          ]
        }
      ],
      "source": [
        "# Para acceder a los elementos: index\n",
        "print(f\"El primer elemento de nuestra lista, index 0, es: {lista_mixta[0]}\")\n",
        "\n",
        "print(f\"El segundo elemento de nuestra lista, index 1, es: {lista_mixta[1]}\")\n",
        "\n",
        "print(f\"El tercer elemento de nuestra lista, index 2, es: {lista_mixta[2]}\")\n",
        "\n",
        "print(f\"El cuarto elemento de nuestra lista, index 3, es: {lista_mixta[3]}\")\n"
      ]
    },
    {
      "cell_type": "code",
      "execution_count": null,
      "metadata": {
        "colab": {
          "base_uri": "https://localhost:8080/"
        },
        "id": "81n1mJisktQU",
        "outputId": "d4f50ea2-5b03-492d-a675-b5cbadafe1a9"
      },
      "outputs": [
        {
          "name": "stdout",
          "output_type": "stream",
          "text": [
            "['pontia', 4, 137.5, [8, 55, 9.26, 3402, 15.0]]\n",
            "4\n",
            "<class 'list'>\n"
          ]
        }
      ],
      "source": [
        "# Lista mixta que contiene cadenas de texto, números, y otra lista.\n",
        "lista_mixta = ['pontia', 4, 137.5, lista_numerica]\n",
        "\n",
        "print(lista_mixta)\n",
        "print(len(lista_mixta))\n",
        "print(type(lista_mixta))"
      ]
    },
    {
      "cell_type": "code",
      "execution_count": null,
      "metadata": {
        "colab": {
          "base_uri": "https://localhost:8080/"
        },
        "id": "R7E02jJumFwn",
        "outputId": "dee833a7-ee51-46f7-8708-4416d9656948"
      },
      "outputs": [
        {
          "name": "stdout",
          "output_type": "stream",
          "text": [
            "['pontia', 4, 137.5, [8, 55, 9.26, 3402, 15.0]]\n",
            "El primer elemento de nuestra lista, index 0, es: pontia\n",
            "El segundo elemento de nuestra lista, index 1, es: 4\n",
            "El tercer elemento de nuestra lista, index 2, es: 137.5\n",
            "El cuarto elemento de nuestra lista, index 3, es: [8, 55, 9.26, 3402, 15.0]\n"
          ]
        }
      ],
      "source": [
        "print(lista_mixta)\n",
        "# Para acceder a los elementos: index\n",
        "print(f\"El primer elemento de nuestra lista, index 0, es: {lista_mixta[0]}\")\n",
        "\n",
        "print(f\"El segundo elemento de nuestra lista, index 1, es: {lista_mixta[1]}\")\n",
        "\n",
        "print(f\"El tercer elemento de nuestra lista, index 2, es: {lista_mixta[2]}\")\n",
        "\n",
        "print(f\"El cuarto elemento de nuestra lista, index 3, es: {lista_mixta[3]}\")"
      ]
    },
    {
      "cell_type": "code",
      "execution_count": null,
      "metadata": {
        "colab": {
          "base_uri": "https://localhost:8080/"
        },
        "id": "O6-76uETmH3p",
        "outputId": "5e3c8f9a-cfe7-4300-8b0c-1d91e91b3c8d"
      },
      "outputs": [
        {
          "name": "stdout",
          "output_type": "stream",
          "text": [
            "5\n",
            "[8, 55, 9.26, 3402, 15.0]\n",
            "El primer elemento de la lista dentro de nuestra lista (nested), index 0, es: 8\n"
          ]
        }
      ],
      "source": [
        "# El cuarto elemento es una lista que contiene elementos propios, pero todos ellos\n",
        "# son el elemento 4 de nuestra lista_mixta\n",
        "print(len(lista_mixta[3]))\n",
        "print(lista_mixta[3])\n",
        "\n",
        "print(f\"El primer elemento de la lista dentro de nuestra lista (nested), index 0, es: {lista_mixta[3][0]}\")"
      ]
    },
    {
      "cell_type": "code",
      "execution_count": null,
      "metadata": {
        "colab": {
          "base_uri": "https://localhost:8080/"
        },
        "id": "u3uTq-_AkeO4",
        "outputId": "2fa14d46-4bab-4f6c-880c-ffe1753fca08"
      },
      "outputs": [
        {
          "name": "stdout",
          "output_type": "stream",
          "text": [
            "1\n",
            "['pontia', 4, 137.5]\n",
            "pontia\n"
          ]
        }
      ],
      "source": [
        "# Lista de una lista\n",
        "lista = [['pontia', 4, 137.5]]\n",
        "print(len(lista))\n",
        "\n",
        "# Accede e imprime el segundo elemento de 'lista_numerica' (índices comienzan en 0), que es 55.\n",
        "print(lista[0])\n",
        "\n",
        "# Acceder a la lista dentro de la lista => dos indices\n",
        "print(lista[0][0])\n"
      ]
    },
    {
      "cell_type": "markdown",
      "metadata": {
        "id": "zdAF6jdpm4pC"
      },
      "source": [
        "##### Slicing\n",
        "\n",
        "La manipulación de indexación o **slicing** en Python permite extraer subsecciones de listas, cadenas y otros tipos de secuencias. Esta técnica es muy útil para acceder a segmentos específicos de datos de manera concisa y eficiente.\n",
        "\n",
        "\n",
        "La sintaxis básica para el slicing es:\n",
        "\n",
        "`secuencia[start:stop:step]`\n",
        "\n",
        "- **start:** El índice donde comienza el slicing (incluido).\n",
        "- **stop:** El índice donde termina el slicing (excluido).\n",
        "- **step:** El tamaño del paso entre elementos (opcional).\n",
        "\n",
        "\n",
        "Si start no se especifica, se asume que es el inicio de la secuencia. Si stop no se especifica, se asume que es el final de la secuencia. Si step no se especifica, se asume que es 1.\n",
        "\n"
      ]
    },
    {
      "cell_type": "code",
      "execution_count": null,
      "metadata": {
        "colab": {
          "base_uri": "https://localhost:8080/"
        },
        "id": "2OwJjn8JY1yz",
        "outputId": "96449225-ffff-4721-cf8a-349e3f9cb0ef"
      },
      "outputs": [
        {
          "name": "stdout",
          "output_type": "stream",
          "text": [
            "Los primeros dos elementos de nuestra lista numerica: [8, 55, 9.26, 3402, 15.0] son: \n",
            " [8, 55, 9.26]\n"
          ]
        }
      ],
      "source": [
        "### Manipulación de indexación - START STOP STEP\n",
        "\n",
        "# Lista de números, incluye tanto enteros como flotantes.\n",
        "lista_numerica = [8, 55, 9.26, 3402, 15.0]\n",
        "\n",
        "# Acceder a los primeros dos elementos de 'lista_numerica' usando slicing.\n",
        "primeros_dos_elementos = lista_numerica[:3]\n",
        "print(f\"Los primeros dos elementos de nuestra lista numerica: {lista_numerica} son: \\n {primeros_dos_elementos}\")\n",
        "\n",
        "# omitimos el índice de inicio, lo que significa que comenzamos desde el primer elemento.\n",
        "# Usamos 3 como índice de parada, lo que selecciona los elementos desde el inicio hasta el tercer elemento (índice 2).\n"
      ]
    },
    {
      "cell_type": "code",
      "execution_count": null,
      "metadata": {
        "colab": {
          "base_uri": "https://localhost:8080/"
        },
        "id": "XJiHlVrprd7z",
        "outputId": "c19ac34c-80c7-4e53-bbcd-6c14940cd94d"
      },
      "outputs": [
        {
          "name": "stdout",
          "output_type": "stream",
          "text": [
            "Los elementos tres y cuatro de nuestra lista numerica: [8, 55, 9.26, 3402, 15.0] son: \n",
            " [9.26, 3402]\n"
          ]
        }
      ],
      "source": [
        "# Obtener el tercer y cuarto elemento de 'lista_numerica'\n",
        "tercer_y_cuarto = lista_numerica[2:4]\n",
        "print(f\"Los elementos tres y cuatro de nuestra lista numerica: {lista_numerica} son: \\n {tercer_y_cuarto}\")\n",
        "\n",
        "# El índice de inicio es 2 (tercer elemento, ya que el conteo inicia en 0)\n",
        "# y el índice de parada es 4, excluyendo el cuarto elemento."
      ]
    },
    {
      "cell_type": "code",
      "execution_count": null,
      "metadata": {
        "colab": {
          "base_uri": "https://localhost:8080/"
        },
        "id": "b5DaSeIyrgbK",
        "outputId": "0fb98251-8849-4209-d12e-ccec87a9cc55"
      },
      "outputs": [
        {
          "name": "stdout",
          "output_type": "stream",
          "text": [
            "Los dos últimos elementos de nuestra lista numerica: [8, 55, 9.26, 3402, 15.0] son: \n",
            " [3402, 15.0]\n"
          ]
        }
      ],
      "source": [
        "# Acceder a los últimos dos elementos de 'lista_numerica'.\n",
        "ultimos_dos_elementos = lista_numerica[-2:]\n",
        "print(f\"Los dos últimos elementos de nuestra lista numerica: {lista_numerica} son: \\n {ultimos_dos_elementos}\")\n",
        "\n",
        "# El índice de inicio es -2, lo que significa que comienza desde el segundo elemento contando desde el final.\n",
        "# No se especifica el índice de parada, por lo que se incluyen todos los elementos hasta el final de la lista."
      ]
    },
    {
      "cell_type": "markdown",
      "metadata": {
        "id": "xB0Y3RshsvGa"
      },
      "source": [
        "##### Manipulación de izda ⟺ dcha"
      ]
    },
    {
      "cell_type": "code",
      "execution_count": null,
      "metadata": {
        "colab": {
          "base_uri": "https://localhost:8080/"
        },
        "id": "_WV7BG8m8WEZ",
        "outputId": "0887c1d0-bc0a-4229-8eb8-414ab7829bee"
      },
      "outputs": [
        {
          "name": "stdout",
          "output_type": "stream",
          "text": [
            "Lista normal:  [8, 55, 9.26, 3402, 15.0]\n",
            "Lista de dos en dos:   [8, 9.26, 15.0]\n"
          ]
        }
      ],
      "source": [
        "### Izquierda a Derecha\n",
        "lista_numerica = [8, 55, 9.26, 3402, 15.0]\n",
        "\n",
        "# Crea una copia de 'lista_numerica' sin modificarla,\n",
        "# recorriendo de izquierda a derecha con un paso de 1\n",
        "lista_normal = lista_numerica[::1]\n",
        "print(\"Lista normal: \", lista_normal)\n",
        "\n",
        "# Aquí, start y stop no están especificados, por lo que se toma toda la lista.\n",
        "# step es 1, recorriendo la lista en orden normal\n",
        "\n",
        "# Obtiene elementos de 'lista_numerica' con una zancada de 2,\n",
        "# es decir, selecciona cada segundo elemento de la lista\n",
        "lista_zancada = lista_numerica[::2]\n",
        "print(\"Lista de dos en dos:  \", lista_zancada)\n",
        "\n",
        "# start y stop no están especificados, por lo que se toma toda la lista.\n",
        "# step es 2, seleccionando cada segundo elemento"
      ]
    },
    {
      "cell_type": "code",
      "execution_count": null,
      "metadata": {
        "colab": {
          "base_uri": "https://localhost:8080/"
        },
        "id": "UTpAS-yntP7x",
        "outputId": "39b43340-bad8-435b-ee1a-0a18e0976464"
      },
      "outputs": [
        {
          "name": "stdout",
          "output_type": "stream",
          "text": [
            "Lista invertida:  [15.0, 3402, 9.26, 55, 8]\n"
          ]
        }
      ],
      "source": [
        "### Derecha a Izquierda\n",
        "lista_numerica = [8, 55, 9.26, 3402, 15.0]\n",
        "\n",
        "# Invierte 'lista_numerica', recorriendo la lista de derecha a izquierda con un paso de -1.\n",
        "lista_invertida = lista_numerica[::-1]\n",
        "print(\"Lista invertida: \",lista_invertida)\n",
        "\n",
        "# start y stop no están especificados, por lo que se toma toda la lista.\n",
        "# step es -1, recorriendo la lista en orden inverso."
      ]
    },
    {
      "cell_type": "markdown",
      "metadata": {
        "id": "_4Qk88wEsMCt"
      },
      "source": [
        "##### 🎈 Ejercicio lista - slicing 🎈\n",
        "\n",
        "Crea la lista de famosos que contenga:\n",
        "\n",
        "\n",
        "> \"Tom Hanks\", \"Emma Watson\", \"Morgan Freeman\", \"Scarlett Johansson\", \"Will Smith\"\n",
        "\n",
        "\n",
        "1. Accede a los primeros cuatro elementos de la lista.\n",
        "2. Accede al segundo y tercer elemento de la lista.\n",
        "3. Accede al último elemento de la lista.\n",
        "4. Accede a los elementos desde el segundo hasta el penúltimo.\n",
        "5. Crea una copia de 'lista_famosos' recorriéndola de izquierda a derecha con un paso de 1.\n",
        "6. Obtén elementos de 'lista_famosos' con una zancada de 3, es decir, selecciona cada tercer elemento de la lista.\n",
        "7. Invierte 'lista_famosos', recorriéndola de derecha a izquierda con un paso de -1.\n"
      ]
    },
    {
      "cell_type": "code",
      "execution_count": null,
      "metadata": {
        "id": "hOB1X4nesMjE"
      },
      "outputs": [],
      "source": [
        "lista_famosos =\n",
        "\n",
        "# 1. Accede a los primeros cuatro elementos de la lista.\n",
        "\n",
        "\n",
        "# 2. Accede al segundo y tercer elemento de la lista.\n",
        "\n",
        "# 3. Accede al último elemento de la lista.\n",
        "\n",
        "# 4. Accede a los elementos desde el segundo hasta el penúltimo.\n",
        "\n",
        "# 5. Crea una copia de 'lista_famosos' recorriéndola de izquierda a derecha con un paso de 1.\n",
        "\n",
        "# 6. Obtén elementos de 'lista_famosos' con una zancada de 3, es decir, selecciona cada tercer elemento de la lista.\n",
        "\n",
        "# 7. Invierte 'lista_famosos', recorriéndola de derecha a izquierda con un paso de -1.\n"
      ]
    },
    {
      "cell_type": "markdown",
      "metadata": {
        "id": "mZt3yd5joF76"
      },
      "source": [
        "##### Otras funciones"
      ]
    },
    {
      "cell_type": "markdown",
      "metadata": {
        "id": "hMMYo2o4oLPR"
      },
      "source": [
        "Las listas en Python son **mutables**, lo que significa que se pueden modificar después de su creación.\n",
        "\n",
        "La clase list incluye varios métodos para manipular las listas de diferentes maneras.\n",
        "\n",
        "1. **append(x):** Añade un elemento x al final de la lista.\n",
        "2. **extend(iterable):** Extiende la lista añadiendo todos los elementos de un iterable.\n",
        "3. **insert(i, x):** Inserta un elemento x en la posición i.\n",
        "4. **remove(x):** Elimina el primer elemento de la lista cuyo valor sea x.\n",
        "5. **pop([i]):** Elimina y devuelve el elemento en la posición i. Si no se especifica i, elimina y devuelve el último elemento.\n",
        "6. **index(x, [start, [end]]):** Devuelve el índice del primer elemento cuyo valor sea x. Opcionalmente se puede especificar un rango start a end para la búsqueda.\n",
        "7. **count(x):** Devuelve el número de veces que el valor x aparece en la lista.\n",
        "8. **sort(key=None, reverse=False):** Ordena los elementos de la lista en su lugar (los argumentos key y reverse son opcionales).\n",
        "9. **reverse():** Invierte los elementos de la lista en su lugar.\n",
        "10. **clear():** Elimina todos los elementos de la lista."
      ]
    },
    {
      "cell_type": "code",
      "execution_count": null,
      "metadata": {
        "colab": {
          "base_uri": "https://localhost:8080/"
        },
        "id": "7jTj4t00_fgs",
        "outputId": "ee71503d-93c0-48d0-8ce1-e3cdd6aa1e0e"
      },
      "outputs": [
        {
          "data": {
            "text/plain": [
              "['Hogwarts', 'Hermione', 'Hagrid', 'Dumbledore', 'Slytherin']"
            ]
          },
          "execution_count": 74,
          "metadata": {},
          "output_type": "execute_result"
        }
      ],
      "source": [
        "# Lista de cadenas de texto relacionadas con Harry Potter.\n",
        "lista_string = [\"Hogwarts\", \"Hermione\", \"Hagrid\", \"Dumbledore\", \"Slytherin\"]\n",
        "lista_string"
      ]
    },
    {
      "cell_type": "code",
      "execution_count": null,
      "metadata": {
        "colab": {
          "base_uri": "https://localhost:8080/"
        },
        "id": "zmS317rh_k6P",
        "outputId": "0fc885bc-1c13-4390-ce16-dc67288111cb"
      },
      "outputs": [
        {
          "name": "stdout",
          "output_type": "stream",
          "text": [
            "Después de append: ['Hagrid', 'Hogwarts', 'Hermione', 'Slytherin', 'Dumbledore', 'Griffindor']\n",
            "Después de append una lista: ['Hagrid', 'Hogwarts', 'Hermione', 'Slytherin', 'Dumbledore', 'Griffindor', ['Harry', 'Potter']]\n"
          ]
        },
        {
          "data": {
            "text/plain": [
              "7"
            ]
          },
          "execution_count": 76,
          "metadata": {},
          "output_type": "execute_result"
        }
      ],
      "source": [
        "# 1. append(x): Añade un elemento x al final de la lista\n",
        "\n",
        "# Añade 'Griffindor' al final de 'lista_string'.\n",
        "lista_string.append(\"Griffindor\")\n",
        "print(\"Después de append:\", lista_string)\n",
        "\n",
        "# no podemos añadir 2 elementos => error\n",
        "# list.append() takes exactly one argument (2 given)\n",
        "# lista_string.append(\"Ravenclaw\", \"Hufflepuff\")\n",
        "\n",
        "# podriamos incluir una lista dentro de la lista:\n",
        "lista_string.append([\"Harry\", \"Potter\"])\n",
        "print(\"Después de append una lista:\", lista_string)\n",
        "len(lista_string)\n"
      ]
    },
    {
      "cell_type": "code",
      "execution_count": null,
      "metadata": {
        "colab": {
          "base_uri": "https://localhost:8080/"
        },
        "id": "a2nMtYot_wfP",
        "outputId": "f84c0146-1575-4bc3-912b-4b7297dc33f1"
      },
      "outputs": [
        {
          "name": "stdout",
          "output_type": "stream",
          "text": [
            "Después de extend: ['Hagrid', 'Hogwarts', 'Hermione', 'Slytherin', 'Dumbledore', 'Griffindor', ['Harry', 'Potter'], 'Ravenclaw', 'Hufflepuff']\n"
          ]
        }
      ],
      "source": [
        "# 2. extend(iterable): Extiende la lista añadiendo todos los elementos de un iterable.\n",
        "\n",
        "# Añade \"Ravenclaw\" y \"Hufflepuff\" al final de la lista\n",
        "lista_string.extend([\"Ravenclaw\", \"Hufflepuff\"])\n",
        "print(\"Después de extend:\", lista_string)\n",
        "\n",
        "# con extend podemos añadir varios registros sin tenerlos en lista"
      ]
    },
    {
      "cell_type": "code",
      "execution_count": null,
      "metadata": {
        "colab": {
          "base_uri": "https://localhost:8080/"
        },
        "id": "pMPqmd2-Dnks",
        "outputId": "57d5e425-1186-40b2-edfe-afc833854bc6"
      },
      "outputs": [
        {
          "name": "stdout",
          "output_type": "stream",
          "text": [
            "Después de insert: ['Hagrid', 'Hagrid', 'Hogwarts', 'Hermione', 'Slytherin', 'Dumbledore', 'Griffindor', ['Harry', 'Potter'], 'Ravenclaw', 'Hufflepuff']\n"
          ]
        }
      ],
      "source": [
        "# 3. insert(i, x): Inserta un elemento x en la posición i.\n",
        "\n",
        "# Inserta \"Hagrid\" en la segunda posición (índice 1).\n",
        "lista_string.insert(1, \"Hagrid\")\n",
        "print(\"Después de insert:\", lista_string)"
      ]
    },
    {
      "cell_type": "code",
      "execution_count": null,
      "metadata": {
        "colab": {
          "base_uri": "https://localhost:8080/"
        },
        "id": "2hMggkvSD2QJ",
        "outputId": "45950fa3-ac57-4913-c7e1-0dc910dfdf83"
      },
      "outputs": [
        {
          "name": "stdout",
          "output_type": "stream",
          "text": [
            "Después de remove: ['Hagrid', 'Hogwarts', 'Hermione', 'Slytherin', 'Dumbledore', 'Griffindor', ['Harry', 'Potter'], 'Ravenclaw', 'Hufflepuff']\n"
          ]
        }
      ],
      "source": [
        "# 4. remove(x): Elimina el primer elemento de la lista cuyo valor sea x.\n",
        "\n",
        "# Elimina \"Hagrid\" de la lista.\n",
        "lista_string.remove(\"Hagrid\")\n",
        "print(\"Después de remove:\", lista_string)\n",
        "\n",
        "# Elimina el PRIMER elemento cuyo valor sea \"Hagrid\"."
      ]
    },
    {
      "cell_type": "code",
      "execution_count": null,
      "metadata": {
        "colab": {
          "base_uri": "https://localhost:8080/"
        },
        "id": "_HypaXEvEMTm",
        "outputId": "d19ed1ed-3ea8-4130-e2b5-32127c772444"
      },
      "outputs": [
        {
          "name": "stdout",
          "output_type": "stream",
          "text": [
            "Elemento eliminado con pop: Hufflepuff\n",
            "Después de pop: ['Hagrid', 'Hogwarts', 'Hermione', 'Slytherin', 'Dumbledore', 'Griffindor', ['Harry', 'Potter'], 'Ravenclaw']\n",
            "Elemento eliminado con pop: ['Harry', 'Potter']\n",
            "Después de pop: ['Hagrid', 'Hogwarts', 'Hermione', 'Slytherin', 'Dumbledore', 'Griffindor', 'Ravenclaw']\n"
          ]
        }
      ],
      "source": [
        "# 5. pop([i]): Elimina y devuelve el elemento en la posición i.\n",
        "# Si no se especifica i, elimina y devuelve el último elemento.\n",
        "\n",
        "# Elimina y devuelve el último elemento de la lista.\n",
        "ultimo_elemento = lista_string.pop()\n",
        "print(\"Elemento eliminado con pop:\", ultimo_elemento)\n",
        "print(\"Después de pop:\", lista_string)\n",
        "\n",
        "# Indicando el indice => queremos quitar la lista\n",
        "ultimo_elemento = lista_string.pop(-2)\n",
        "print(\"Elemento eliminado con pop:\", ultimo_elemento)\n",
        "print(\"Después de pop:\", lista_string)"
      ]
    },
    {
      "cell_type": "code",
      "execution_count": null,
      "metadata": {
        "colab": {
          "base_uri": "https://localhost:8080/"
        },
        "id": "9E2LtQkPHu1O",
        "outputId": "24cee3ff-ba9a-40f4-919a-5d828183ac01"
      },
      "outputs": [
        {
          "name": "stdout",
          "output_type": "stream",
          "text": [
            "Índice de 'Dumbledore': 4\n"
          ]
        }
      ],
      "source": [
        "# 6. index(x, [start, [end]]): Devuelve el índice del primer elemento cuyo valor sea x.\n",
        "# Opcionalmente se puede especificar un rango start a end para la búsqueda.\n",
        "\n",
        "# Encuentra el índice del elemento \"Dumbledore\".\n",
        "indice_dumbledore = lista_string.index(\"Dumbledore\")\n",
        "print(\"Índice de 'Dumbledore':\", indice_dumbledore)\n"
      ]
    },
    {
      "cell_type": "code",
      "execution_count": null,
      "metadata": {
        "colab": {
          "base_uri": "https://localhost:8080/"
        },
        "id": "fSHirax9Pqlo",
        "outputId": "f2a6295c-1bf5-4e13-f8c6-776394c976ca"
      },
      "outputs": [
        {
          "name": "stdout",
          "output_type": "stream",
          "text": [
            "['Hagrid', 'Hogwarts', 'Hermione', 'Slytherin', 'Dumbledore', 'Griffindor', 'Ravenclaw']\n",
            "Número de veces que aparece 'Slytherin': 1\n",
            "\n",
            "Después de insert: ['Slytherin', 'Hagrid', 'Hogwarts', 'Hermione', 'Slytherin', 'Dumbledore', 'Griffindor', 'Ravenclaw']\n",
            "Número de veces que aparece 'Slytherin': 2\n"
          ]
        }
      ],
      "source": [
        "# 7. count(x): Devuelve el número de veces que el valor x aparece en la lista.\n",
        "print(lista_string)\n",
        "# Cuenta cuántas veces aparece \"Slytherin\" en la lista.\n",
        "contador_slytherin = lista_string.count(\"Slytherin\")\n",
        "print(\"Número de veces que aparece 'Slytherin':\", contador_slytherin)\n",
        "\n",
        "# Introducimos Slytherin para comprobar como hace el count\n",
        "lista_string.insert(0, \"Slytherin\")\n",
        "print(\"\\nDespués de insert:\", lista_string)\n",
        "\n",
        "contador_slytherin = lista_string.count(\"Slytherin\")\n",
        "print(\"Número de veces que aparece 'Slytherin':\", contador_slytherin)"
      ]
    },
    {
      "cell_type": "code",
      "execution_count": null,
      "metadata": {
        "colab": {
          "base_uri": "https://localhost:8080/"
        },
        "id": "7xOwJS1bTKnS",
        "outputId": "0040d185-3dd8-4d2e-bd33-66fd4442dbbb"
      },
      "outputs": [
        {
          "name": "stdout",
          "output_type": "stream",
          "text": [
            "Después de sort: ['Dumbledore', 'Griffindor', 'Hagrid', 'Hermione', 'Hogwarts', 'Ravenclaw', 'Slytherin', 'Slytherin']\n",
            "Después de sort con len: ['Hagrid', 'Hermione', 'Hogwarts', 'Ravenclaw', 'Slytherin', 'Slytherin', 'Dumbledore', 'Griffindor']\n",
            "Después de sort en reverse: ['Slytherin', 'Slytherin', 'Ravenclaw', 'Hogwarts', 'Hermione', 'Hagrid', 'Griffindor', 'Dumbledore']\n",
            "\n",
            "Original: [-5, -2, 3, 1, 4]\n",
            "Después de sort por absolutos: [1, -2, 3, 4, -5]\n",
            "Después de sort (menor a mayor): [-5, -2, 1, 3, 4]\n",
            "Después de sort (mayor a menor): [4, 3, 1, -2, -5]\n"
          ]
        }
      ],
      "source": [
        "# 8. sort(key=None, reverse=False): Ordena los elementos de la lista en su lugar\n",
        "# (los argumentos key y reverse son opcionales).\n",
        "\n",
        "# Ordena la lista alfabéticamente de A a Z.\n",
        "lista_string.sort()\n",
        "print(\"Después de sort:\", lista_string)\n",
        "\n",
        "# Ordena la lista por longitud.\n",
        "lista_string.sort(key= len)\n",
        "print(\"Después de sort con len:\", lista_string)\n",
        "\n",
        "# Ordena la lista alfabéticamente de Z a A.\n",
        "lista_string.sort(reverse=True)\n",
        "print(\"Después de sort en reverse:\", lista_string)\n",
        "\n",
        "\n",
        "lista_numeros = [-5, -2, 3, 1, 4]\n",
        "print(\"\\nOriginal:\", lista_numeros)\n",
        "\n",
        "lista_numeros.sort(key=abs)\n",
        "print(\"Después de sort por absolutos:\", lista_numeros)\n",
        "\n",
        "lista_numeros.sort()\n",
        "print(\"Después de sort (menor a mayor):\", lista_numeros)\n",
        "\n",
        "lista_numeros.sort(reverse=True)\n",
        "print(\"Después de sort (mayor a menor):\", lista_numeros)\n"
      ]
    },
    {
      "cell_type": "code",
      "execution_count": null,
      "metadata": {
        "colab": {
          "base_uri": "https://localhost:8080/"
        },
        "id": "fGwd9orlUjlC",
        "outputId": "7b891cf9-4120-4081-b0cd-6f3d9ba975e7"
      },
      "outputs": [
        {
          "name": "stdout",
          "output_type": "stream",
          "text": [
            "Después de reverse: ['Dumbledore', 'Griffindor', 'Hagrid', 'Hermione', 'Hogwarts', 'Ravenclaw', 'Slytherin', 'Slytherin']\n"
          ]
        }
      ],
      "source": [
        "# 9. reverse(): Invierte los elementos de la lista en su lugar.\n",
        "\n",
        "# Invierte el orden de los elementos de la lista.\n",
        "lista_string.reverse()\n",
        "print(\"Después de reverse:\", lista_string)"
      ]
    },
    {
      "cell_type": "code",
      "execution_count": null,
      "metadata": {
        "colab": {
          "base_uri": "https://localhost:8080/"
        },
        "id": "F8puKrmcUtMC",
        "outputId": "bc10ebc2-4d78-44ec-e010-56746fca9f14"
      },
      "outputs": [
        {
          "name": "stdout",
          "output_type": "stream",
          "text": [
            "Después de clear: []\n"
          ]
        }
      ],
      "source": [
        "# 10. clear(): Elimina todos los elementos de la lista.\n",
        "\n",
        "# Elimina todos los elementos de la lista original.\n",
        "lista_string.clear()\n",
        "print(\"Después de clear:\", lista_string)"
      ]
    },
    {
      "cell_type": "markdown",
      "metadata": {
        "id": "I0Nzm9kLdcRl"
      },
      "source": [
        "**.sort()**\n",
        "\n",
        "- Es un método que se aplica directamente a una lista.\n",
        "- In-place: Modifica la lista original, ordenándola en el lugar. No devuelve una nueva lista.\n",
        "- Retorno: Devuelve None.\n",
        "- Sintaxis: `lista.sort(key=None, reverse=False)`\n",
        "\n",
        "\n",
        "**sorted()**\n",
        "\n",
        "- Es una función incorporada que se puede aplicar a cualquier iterable, no solo listas.\n",
        "- No in-place: No modifica el iterable original. Devuelve una nueva lista ordenada.\n",
        "- Retorno: Devuelve una nueva lista ordenada.\n",
        "- Sintaxis: `sorted(iterable, key=None, reverse=False)`\n",
        "iterable: Cualquier iterable (lista, tupla, conjunto, etc.).\n",
        "\n"
      ]
    },
    {
      "cell_type": "code",
      "execution_count": null,
      "metadata": {
        "colab": {
          "base_uri": "https://localhost:8080/"
        },
        "id": "9VKyatVad0a_",
        "outputId": "5acf3481-686a-496d-d84c-973a62143ca6"
      },
      "outputs": [
        {
          "name": "stdout",
          "output_type": "stream",
          "text": [
            "Después de .sort(): [1, 1, 2, 3, 4, 5, 9]\n",
            "Después de sorted(): [1, 1, 2, 3, 4, 5, 9]\n",
            "Lista original: [3, 1, 4, 1, 5, 9, 2]\n"
          ]
        }
      ],
      "source": [
        "# Lista original\n",
        "lista_numeros = [3, 1, 4, 1, 5, 9, 2]\n",
        "\n",
        "# Ordenar la lista en el lugar\n",
        "lista_numeros.sort()\n",
        "print(\"Después de .sort():\", lista_numeros)\n",
        "\n",
        "# Lista original\n",
        "lista_numeros = [3, 1, 4, 1, 5, 9, 2]\n",
        "\n",
        "# Ordenar usando sorted() y devolver una nueva lista\n",
        "nueva_lista = sorted(lista_numeros)\n",
        "print(\"Después de sorted():\", nueva_lista)\n",
        "print(\"Lista original:\", lista_numeros)\n",
        "\n",
        "\n",
        "# .sort() => cuando quieres ordenar una lista en su lugar sin crear una nueva lista\n",
        "# sorted() => cuando quieres obtener una nueva lista ordenada sin modificar la lista original\n"
      ]
    },
    {
      "cell_type": "markdown",
      "metadata": {
        "id": "TyL6g1HeU2FN"
      },
      "source": [
        "##### 🎈 Ejercicio manipulación listas: Harry Potter 🎈"
      ]
    },
    {
      "cell_type": "markdown",
      "metadata": {
        "id": "U_hNmYXxU-DV"
      },
      "source": [
        "Crea una lista con personajes del mundo de Harry Potter:\n",
        "\n",
        "\n",
        "> \"Harry\", \"Hermione\", \"Ron\", \"Dumbledore\", \"Snape\", \"Voldemort\"\n",
        "\n",
        "Realiza las siguientes operaciones sobre la lista utilizando los métodos de listas de Python:\n",
        "\n",
        "1. Añade el personaje \"Hagrid\" al final de la lista.\n",
        "2. Extiende la lista con los personajes [\"Luna\", \"Neville\"].\n",
        "3. Inserta el personaje \"Ginny\" en la tercera posición de la lista.\n",
        "4. Elimina el personaje \"Snape\" de la lista.\n",
        "5. Elimina y devuelve el primer elemento de la lista.\n",
        "6. Encuentra el índice del personaje \"Voldemort\" en la lista.\n",
        "7. Cuenta cuántas veces aparece el personaje \"Harry\" en la lista.\n",
        "8. Ordena la lista en orden alfabético.\n",
        "9. Invierte el orden de los elementos de la lista.\n",
        "10. Elimina todos los elementos de la lista original."
      ]
    },
    {
      "cell_type": "code",
      "execution_count": null,
      "metadata": {
        "id": "zNDS-oY1U47I"
      },
      "outputs": [],
      "source": [
        "# Lista de personajes de Harry Potter\n",
        "personajes_hp =\n",
        "\n",
        "# 1. Añade \"Hagrid\" al final de la lista.\n",
        "\n",
        "# 2. Extiende la lista con los personajes [\"Luna\", \"Neville\"].\n",
        "\n",
        "# 3. Inserta \"Ginny\" en la tercera posición.\n",
        "\n",
        "# 4. Elimina \"Snape\" de la lista.\n",
        "\n",
        "# 5. Elimina y devuelve el primer elemento de la lista.\n",
        "\n",
        "# 6. Encuentra el índice del personaje \"Voldemort\".\n",
        "\n",
        "# 7. Cuenta cuántas veces aparece \"Harry\" en la lista.\n",
        "\n",
        "# 8. Ordena la lista en orden alfabético.\n",
        "\n",
        "# 9. Invierte el orden de los elementos de la lista.\n",
        "\n",
        "# 10. Elimina todos los elementos de la lista original.\n"
      ]
    },
    {
      "cell_type": "markdown",
      "metadata": {
        "id": "HXj51q319P8_"
      },
      "source": [
        "##### Copias"
      ]
    },
    {
      "cell_type": "markdown",
      "metadata": {
        "id": "t-Xa5kme9U5h"
      },
      "source": [
        "En Python, podemos hablar de **copias superficiales** (shallow copies) y **copias profundas** (deep copies) de listas:\n",
        "\n",
        "**1. Copia Superficial (Shallow Copy):**\n",
        "\n",
        "- Una copia superficial de una lista crea una nueva lista, pero no copia los objetos que contiene la lista original.\n",
        "- En lugar de eso, **copia las referencias** a esos objetos.\n",
        "- Esto significa que si los objetos contenidos en la lista original son mutables y se modifican, los cambios se **reflejarán** tanto en la lista original como en la copia superficial.\n",
        "  - Los elementos anidados (como listas dentro de listas) se referencian, no se copian. Modificaciones en estos elementos se reflejan en ambas listas.\n",
        "  - Los elementos a nivel superior (sin anidar) se copian como nuevas referencias. Cambios en estos elementos no afectan a la lista original.\n",
        "\n",
        "**2. Copia Profunda (Deep Copy):**\n",
        "\n",
        "- Una copia profunda de una lista crea una nueva lista y **copia todos los objetos** que contiene la lista original.\n",
        "- Esto significa que se crean copias *independientes* de todos los objetos y sub-objetos contenidos en la lista original.\n",
        "- Los cambios en los objetos mutables dentro de la lista original **no** afectarán a la copia profunda.\n",
        "\n",
        "\n",
        "=> varían en cómo se manejan las referencias a los objetos dentro de las listas\n"
      ]
    },
    {
      "cell_type": "code",
      "execution_count": null,
      "metadata": {
        "id": "OUFZxaxS9hZa"
      },
      "outputs": [],
      "source": [
        "import copy"
      ]
    },
    {
      "cell_type": "code",
      "execution_count": null,
      "metadata": {
        "colab": {
          "base_uri": "https://localhost:8080/"
        },
        "id": "fLj_I6QK9aLW",
        "outputId": "8490c246-2132-49d1-c936-433f3c96ddbb"
      },
      "outputs": [
        {
          "name": "stdout",
          "output_type": "stream",
          "text": [
            "Original: [0, [1, 2, 3], [4, 5, 6]]\n",
            "Copia superficial: ['bye-bye', [1, 2, 3], [4, 5, 6]]\n"
          ]
        }
      ],
      "source": [
        "# Lista original\n",
        "original = [0, [1, 2, 3], [4, 5, 6]]\n",
        "\n",
        "# Copia superficial de la lista\n",
        "copia_superficial = copy.copy(original)\n",
        "\n",
        "# modificamos el valor del primer elemento\n",
        "copia_superficial[0] = 'bye-bye'\n",
        "print(\"Original:\", original)  # Original: [0, ['1', 2, 3], [4, 5, 6]]\n",
        "print(\"Copia superficial:\", copia_superficial)  # Copia superficial: ['bye-bye',['1', 2, 3], [4, 5, 6], 'hello']\n"
      ]
    },
    {
      "cell_type": "code",
      "execution_count": null,
      "metadata": {
        "colab": {
          "base_uri": "https://localhost:8080/"
        },
        "id": "Grwv7AjFXniY",
        "outputId": "957655cb-700b-40e6-e28b-ca0b0dba0c99"
      },
      "outputs": [
        {
          "name": "stdout",
          "output_type": "stream",
          "text": [
            "Original: [0, [1, 2, 3], [4, 5, 6]]\n",
            "Copia superficial: ['bye-bye', [1, 2, 3], [4, 5, 6], 'hello']\n"
          ]
        }
      ],
      "source": [
        "# Si añadimos nuevos elementos, NO se crean las nuevas referencias en la lista original\n",
        "copia_superficial.append('hello')\n",
        "\n",
        "print(\"Original:\", original)  # Original: [['A', 2, 3], [4, 5, 6]]\n",
        "print(\"Copia superficial:\", copia_superficial)  # Copia superficial: [['A', 2, 3], [4, 5, 6], 'hello']\n"
      ]
    },
    {
      "cell_type": "code",
      "execution_count": null,
      "metadata": {
        "colab": {
          "base_uri": "https://localhost:8080/"
        },
        "id": "s1s3Z2RfY_x3",
        "outputId": "c25fa07a-8967-4df7-971f-79f33e943bf7"
      },
      "outputs": [
        {
          "name": "stdout",
          "output_type": "stream",
          "text": [
            "Original: [0, ['A', 2, 3], [4, 5, 6]]\n",
            "Copia superficial: ['bye-bye', ['A', 2, 3], [4, 5, 6], 'hello']\n"
          ]
        }
      ],
      "source": [
        "# Modificamos un elemento anidado de la copia superficial\n",
        "copia_superficial[1][0] = 'A'\n",
        "\n",
        "# La modificación se refleja en ambas listas\n",
        "print(\"Original:\", original)  # Original: [0, ['A', 2, 3], [4, 5, 6]]\n",
        "print(\"Copia superficial:\", copia_superficial)  # Copia superficial: [0, ['A', 2, 3], [4, 5, 6]]\n"
      ]
    },
    {
      "cell_type": "code",
      "execution_count": null,
      "metadata": {
        "colab": {
          "base_uri": "https://localhost:8080/"
        },
        "id": "587yl6a09cd8",
        "outputId": "8a2a433b-3a6c-496e-f334-0bb8bb750a97"
      },
      "outputs": [
        {
          "name": "stdout",
          "output_type": "stream",
          "text": [
            "Original: [[1, 2, 3], [4, 5, 6]]\n",
            "Copia profunda: [['A', 2, 3], [4, 5, 6]]\n"
          ]
        }
      ],
      "source": [
        "# Lista original\n",
        "original = [[1, 2, 3], [4, 5, 6]]\n",
        "\n",
        "# Copia profunda de la lista\n",
        "copia_profunda = copy.deepcopy(original)\n",
        "\n",
        "# Modificamos un elemento de la copia profunda\n",
        "copia_profunda[0][0] = 'A'\n",
        "\n",
        "# La modificación no se refleja en la lista original\n",
        "print(\"Original:\", original)  # Original: [[1, 2, 3], [4, 5, 6]]\n",
        "print(\"Copia profunda:\", copia_profunda)  # Copia profunda: [['A', 2, 3], [4, 5, 6]]\n"
      ]
    },
    {
      "cell_type": "markdown",
      "metadata": {
        "id": "8zZizO5J9mtb"
      },
      "source": [
        "Otras formas de hacer una copia superficial:\n",
        "\n",
        "- Usando el método **list.copy()**\n",
        "- Usando la función **list()**\n",
        "- Usando **slicing**"
      ]
    },
    {
      "cell_type": "code",
      "execution_count": null,
      "metadata": {
        "colab": {
          "base_uri": "https://localhost:8080/"
        },
        "id": "xKBjkJe89zaT",
        "outputId": "a5940aa3-656e-4b1a-c786-ea510842682c"
      },
      "outputs": [
        {
          "name": "stdout",
          "output_type": "stream",
          "text": [
            "original: [1, 2, 3]\n",
            "\n",
            "copia_1: [1, 2, 3]\n",
            "\n",
            "copia_2: [1, 2, 3]\n",
            "\n",
            "copia_3: [1, 2, 3]\n"
          ]
        }
      ],
      "source": [
        "original = [1, 2, 3]\n",
        "print(\"original:\", original)\n",
        "\n",
        "# list.copy()\n",
        "copia_1 = original.copy()\n",
        "print(\"\\ncopia_1:\", copia_1)\n",
        "\n",
        "# list()\n",
        "copia_2 = list(original)\n",
        "print(\"\\ncopia_2:\", copia_2)\n",
        "\n",
        "# slicing\n",
        "copia_3 = original[:]\n",
        "print(\"\\ncopia_3:\", copia_3)\n",
        "\n",
        "# Todos estos métodos crean copias superficiales"
      ]
    },
    {
      "cell_type": "markdown",
      "metadata": {
        "id": "AcocljHJ-F_m"
      },
      "source": [
        "- **Copia superficial (shallow copy):** Copia los elementos de la lista original por referencia. Cambios en elementos mutables se reflejan en ambas listas.\n",
        "\n",
        "- **Copia profunda (deep copy):** Crea copias independientes de todos los elementos, incluyendo sub-objetos. Cambios en la copia no afectan la lista original.\n",
        "\n",
        "- Usar la copia adecuada depende del caso específico y de si necesitas que los objetos internos sean **independientes** entre la copia y la lista original."
      ]
    },
    {
      "cell_type": "markdown",
      "metadata": {
        "id": "K9roAGwa9YxH"
      },
      "source": [
        "##### split + join\n"
      ]
    },
    {
      "cell_type": "markdown",
      "metadata": {
        "id": "ssPrEo5bjeUC"
      },
      "source": [
        "Podemos necesitar convertir una cadena de texto en una lista de palabras y viceversa. Esto se puede lograr utilizando los métodos .split() y .join(), respectivamente.\n",
        "\n",
        "**Conversión de String a Lista**\n",
        "\n",
        "- **.split()** se usa para dividir una cadena en una lista de subcadenas basadas en un delimitador especificado.\n",
        "- Por defecto, el delimitador es un espacio en blanco.\n",
        "\n",
        "`str.split(sep=None, maxsplit=-1)`\n",
        "\n",
        "- *sep:* Especifica el delimitador. Si se omite, los espacios en blanco se utilizan como delimitador.\n",
        "- *maxsplit:* Especifica el número máximo de divisiones. Si se omite, todas las posibles divisiones se realizarán.\n",
        "\n",
        "**Conversión de Lista a String**\n",
        "\n",
        "- **.join()** se usa para combinar una lista de cadenas en una sola cadena, intercalando un separador entre los elementos.\n",
        "\n",
        "`str.join(iterable)`\n",
        "\n",
        "- *iterable:* Un iterable que contiene las subcadenas que se van a unir.\n"
      ]
    },
    {
      "cell_type": "code",
      "execution_count": null,
      "metadata": {
        "colab": {
          "base_uri": "https://localhost:8080/"
        },
        "id": "faNU59Nplr_v",
        "outputId": "9f85a5d4-510a-45bc-a24c-d248e665db82"
      },
      "outputs": [
        {
          "name": "stdout",
          "output_type": "stream",
          "text": [
            "texto original:  Soy un ejemplo de texto.\n",
            "\n",
            " El método split:\n",
            "txt_lista:  ['Soy', 'un', 'ejemplo', 'de', 'texto.']\n",
            "\n",
            " El método join:\n",
            "x:  Soy--un--ejemplo--de--texto.\n"
          ]
        }
      ],
      "source": [
        "# Definición de una cadena de texto.\n",
        "txt = \"\"\"Soy un ejemplo de texto.\"\"\"\n",
        "print(\"texto original: \", txt)\n",
        "\n",
        "# El método .split() divide la cadena en palabras utilizando espacios como separadores por defecto\n",
        "print(\"\\n El método split:\")\n",
        "# Convierte la cadena 'txt' en una lista 'txt_lista',\n",
        "# donde cada palabra se convierte en un elemento de la lista.\n",
        "txt_lista = txt.split()\n",
        "\n",
        "# Imprime la lista resultante para ver las palabras de 'txt' como elementos individuales.\n",
        "print(\"txt_lista: \", txt_lista)  # Salida: ['Soy', 'un', 'ejemplo', 'de', 'texto.']\n",
        "\n",
        "# El método .join() toma una lista de cadenas y las concatena en una sola cadena,\n",
        "# utilizando la cadena sobre la que se llama ('--' en este caso) como separador.\n",
        "print(\"\\n El método join:\")\n",
        "\n",
        "# Combina los elementos de 'txt_lista' en una nueva cadena 'x', intercalando '--' entre cada palabra.\n",
        "x = '--'.join(txt_lista)\n",
        "\n",
        "# Imprime la cadena resultante para ver el efecto del método .join().\n",
        "print(\"x: \", x)  # Salida: 'Soy--un--ejemplo--de--texto.'"
      ]
    },
    {
      "cell_type": "markdown",
      "metadata": {
        "id": "4ZsdfBrZXTJR"
      },
      "source": [
        "#### Diccionarios\n",
        "\n",
        "Un diccionario es una colección desordenada y mutable de pares de clave-valor:\n",
        "\n",
        "\n",
        "- **Sintaxis con llaves {}:** Se definen encerrando sus elementos entre llaves.\n",
        "- **Pares clave-valor:** Cada elemento en un diccionario es un par de clave y valor (clave: valor) (key:value).\n",
        "- **Mutables:** Su contenido puede cambiar durante la ejecución del programa.\n",
        "- **No secuenciales:** *No están ordenados o indexados por un número de secuencia, lo que significa que no se accede a sus elementos mediante un índice numérico.\n",
        "  \n",
        "    - Los diccionarios usan claves (key) para acceder a los valores (values), en lugar de los índices numéricos que tienen las listas\n",
        "\n",
        "\n",
        "- **Claves únicas e inmutables:** Las claves deben ser de un tipo de dato inmutable, como cadenas, números o tuplas que contengan solo objetos inmutables. Cada clave es única dentro de un diccionario.\n",
        "\n",
        "    - Como las claves han de ser únicas => NO se aceptan duplicado de claves => NO se puede repitir la misma key en un diccionario"
      ]
    },
    {
      "cell_type": "markdown",
      "metadata": {
        "id": "z40qM2MiunHK"
      },
      "source": [
        "<font color='lightblue'>*Si no hay indexación, no se aceptan duplicado de valores (en este caso, duplicado de claves)."
      ]
    },
    {
      "cell_type": "code",
      "execution_count": null,
      "metadata": {
        "colab": {
          "base_uri": "https://localhost:8080/"
        },
        "id": "g3CuxerkLpIq",
        "outputId": "8990afaf-5f46-40d4-c3ef-6cf4d524164b"
      },
      "outputs": [
        {
          "name": "stdout",
          "output_type": "stream",
          "text": [
            "El diccionario vacío no tiene nada en su interior: {}, \n",
            " pero como lo hemos definido entre llaves, su tipo indica que es un <class 'dict'>\n",
            "\n",
            "El diccionario con valores es: \n",
            " {'clave1': 'valor1', 'clave2': 'valor2'}\n"
          ]
        }
      ],
      "source": [
        "# 1. Creación de diccionarios:\n",
        "\n",
        "diccionario_vacio = {}\n",
        "\n",
        "print(f\"El diccionario vacío no tiene nada en su interior: {diccionario_vacio}, \\n \\\n",
        "pero como lo hemos definido entre llaves, su tipo indica que es un {type(diccionario_vacio)}\")\n",
        "\n",
        "diccionario_con_valores = {\"clave1\": \"valor1\", \"clave2\": \"valor2\"}\n",
        "print(f\"\\nEl diccionario con valores es: \\n {diccionario_con_valores}\")"
      ]
    },
    {
      "cell_type": "code",
      "execution_count": null,
      "metadata": {
        "colab": {
          "base_uri": "https://localhost:8080/"
        },
        "id": "fDEu3RoJMJAd",
        "outputId": "b8182772-43d9-467c-d04d-f0e2238209d4"
      },
      "outputs": [
        {
          "name": "stdout",
          "output_type": "stream",
          "text": [
            "El valor de la clave1 es: valor1\n",
            "El valor de la clave1 es: valor2\n"
          ]
        }
      ],
      "source": [
        "# 2. Acceso a valores\n",
        "\n",
        "# Acceso directo\n",
        "valor_1 = diccionario_con_valores[\"clave1\"]\n",
        "print(f\"El valor de la clave1 es: {valor_1}\")\n",
        "\n",
        "# Método get\n",
        "valor_2 = diccionario_con_valores.get(\"clave2\")\n",
        "print(f\"El valor de la clave1 es: {valor_2}\")"
      ]
    },
    {
      "cell_type": "code",
      "execution_count": null,
      "metadata": {
        "colab": {
          "base_uri": "https://localhost:8080/"
        },
        "id": "0KuilJhhNR8V",
        "outputId": "a3beb628-176c-4e4e-b5dd-16852c55d034"
      },
      "outputs": [
        {
          "name": "stdout",
          "output_type": "stream",
          "text": [
            "El diccionario con una nueva key-value: \n",
            " {'clave1': 'valor1', 'clave2': 'valor2', 'clave3': 'valor3'}\n",
            "\n",
            "El diccionario actualizado con una nueva key-value: \n",
            " {'clave1': 'valor1', 'clave2': 'valor2', 'clave3': 'valor3', 'clave4': 'valor4'}\n"
          ]
        }
      ],
      "source": [
        "# 3. Actualización y Añadido de Claves/Valores\n",
        "\n",
        "# Añadir una nueva clave-valor\n",
        "diccionario_con_valores[\"clave3\"] = \"valor3\"\n",
        "print(f\"El diccionario con una nueva key-value: \\n {diccionario_con_valores}\")\n",
        "\n",
        "# Usar update para añadir o actualizar\n",
        "diccionario_con_valores.update({\"clave4\": \"valor4\"})\n",
        "print(f\"\\nEl diccionario actualizado con una nueva key-value: \\n {diccionario_con_valores}\")\n"
      ]
    },
    {
      "cell_type": "code",
      "execution_count": null,
      "metadata": {
        "colab": {
          "base_uri": "https://localhost:8080/"
        },
        "id": "HNU61xe4NXPC",
        "outputId": "d8375d5a-1a45-4b51-8042-2f97e0e0a01e"
      },
      "outputs": [
        {
          "name": "stdout",
          "output_type": "stream",
          "text": [
            "El diccionario usando pop para eliminar la clave3: \n",
            " {'clave1': 'valor1', 'clave2': 'valor2', 'clave4': 'valor4'}\n",
            "\n",
            "El diccionario usando del para eliminar la clave2: \n",
            " {'clave1': 'valor1', 'clave4': 'valor4'}\n",
            "\n",
            "El diccionario tras vaciarlo con clear: \n",
            " {}\n"
          ]
        }
      ],
      "source": [
        "# 4. Eliminar Claves/Valores\n",
        "\n",
        "# Eliminar usando pop\n",
        "diccionario_con_valores.pop(\"clave3\")\n",
        "print(f\"El diccionario usando pop para eliminar la clave3: \\n {diccionario_con_valores}\")\n",
        "\n",
        " # Eliminar usando del\n",
        "del diccionario_con_valores[\"clave2\"]\n",
        "print(f\"\\nEl diccionario usando del para eliminar la clave2: \\n {diccionario_con_valores}\")\n",
        "\n",
        "\n",
        "# Vaciar el diccionario\n",
        "diccionario_con_valores.clear()\n",
        "print(f\"\\nEl diccionario tras vaciarlo con clear: \\n {diccionario_con_valores}\")\n"
      ]
    },
    {
      "cell_type": "markdown",
      "metadata": {
        "id": "YrCnCpMVNcLs"
      },
      "source": [
        "Otros métodos útiles:\n",
        "\n",
        "- **copy():** Devuelve una copia superficial del diccionario.\n",
        "- **keys():** Devuelve una vista de todas las claves en el diccionario.\n",
        "- **values():** Devuelve una vista de todos los valores en el diccionario.\n",
        "- **items():** Devuelve una vista de pares clave-valor en el diccionario.\n",
        "- **setdefault():** Devuelve el valor de una clave si existe, de lo contrario inserta la clave con un valor dado.\n",
        "- **fromkeys():** Crea un nuevo diccionario con claves de un iterable y un valor predeterminado."
      ]
    },
    {
      "cell_type": "markdown",
      "metadata": {
        "id": "Exgj4qhKdB2a"
      },
      "source": [
        "##### ⭐ Ejemplo dict plantas ⭐"
      ]
    },
    {
      "cell_type": "code",
      "execution_count": null,
      "metadata": {
        "colab": {
          "base_uri": "https://localhost:8080/"
        },
        "id": "3dCt89XBdQE1",
        "outputId": "c5379c1c-f81d-4c00-f1d1-7ea707b65931"
      },
      "outputs": [
        {
          "name": "stdout",
          "output_type": "stream",
          "text": [
            "Diccionario plantas:  {'Rosa': 'Primavera', 'Lirio': 'Primavera', 'Girasol': 'Verano', 'Poinsettia': 'Invierno'}\n",
            "Diccionario actualizado de plantas y sus estaciones de floración: {'Rosa': 'Primavera', 'Lirio': 'Primavera', 'Girasol': 'Verano', 'Poinsettia': 'Invierno', 'Caléndula': 'Otoño'}\n"
          ]
        }
      ],
      "source": [
        "# Uso de Diccionarios para Relacionar Plantas con Estaciones\n",
        "\n",
        "# Se define un diccionario con varias plantas y la estación en la que florecen.\n",
        "diccionario_plantas = {\n",
        "    \"Rosa\": \"Primavera\",\n",
        "    \"Lirio\": \"Primavera\",\n",
        "    \"Girasol\": \"Verano\",\n",
        "    \"Poinsettia\": \"Invierno\"\n",
        "}\n",
        "\n",
        "print(\"Diccionario plantas: \" , diccionario_plantas)"
      ]
    },
    {
      "cell_type": "code",
      "execution_count": null,
      "metadata": {
        "colab": {
          "base_uri": "https://localhost:8080/"
        },
        "id": "grgDQkBFdYCW",
        "outputId": "5510cee8-2439-4700-ea77-3156110b95bd"
      },
      "outputs": [
        {
          "name": "stdout",
          "output_type": "stream",
          "text": [
            "Diccionario actualizado de plantas y sus estaciones de floración: \n",
            " {'Rosa': 'Primavera', 'Lirio': 'Primavera', 'Girasol': 'Verano', 'Poinsettia': 'Invierno', 'Caléndula': 'Otoño'}\n"
          ]
        }
      ],
      "source": [
        "# Agrega un nuevo par clave-valor al diccionario,\n",
        "# asignando \"Otoño\" como la estación de la \"Caléndula\".\n",
        "diccionario_plantas[\"Caléndula\"] = \"Otoño\"\n",
        "\n",
        "# Al imprimir 'diccionario_plantas',\n",
        "# ahora incluirá también la \"Caléndula\" y su correspondiente estación, \"Otoño\".\n",
        "print(\"Diccionario actualizado de plantas y sus estaciones de floración: \\n\", diccionario_plantas)\n"
      ]
    },
    {
      "cell_type": "markdown",
      "metadata": {
        "id": "MqbZX3b2PZZz"
      },
      "source": [
        "\n",
        "##### ⭐ Ejemplo dict mascotas ⭐\n"
      ]
    },
    {
      "cell_type": "markdown",
      "metadata": {
        "id": "wzWax769PV7a"
      },
      "source": [
        "Imagina que eres el encargado de mantener el inventario de una tienda de mascotas que se especializa en distintas razas de perros y gatos. Necesitas realizar varias operaciones para actualizar y manejar este inventario utilizando diccionarios en Python.\n",
        "\n"
      ]
    },
    {
      "cell_type": "code",
      "execution_count": null,
      "metadata": {
        "colab": {
          "base_uri": "https://localhost:8080/"
        },
        "id": "fqzkXRBuPwzU",
        "outputId": "182358ca-2f8f-4755-c029-ab5ad565817f"
      },
      "outputs": [
        {
          "data": {
            "text/plain": [
              "{'perro': 'Labrador', 'gato': 'Bengal'}"
            ]
          },
          "execution_count": 110,
          "metadata": {},
          "output_type": "execute_result"
        }
      ],
      "source": [
        "# Las claves han de ser UNICAS\n",
        "# NO se puede repetir la \"clave\", pero si los \"valores\"\n",
        "# si se repite la misma clave => se va sobreescribiendo => nos quedamos con la ultima referencia\n",
        "\n",
        "razas = {\"perro\": \"Dachshund\",\n",
        "         \"perro\": \"Labrador\",\n",
        "         \"gato\": \"Siamés\",\n",
        "         \"gato\": \"Persa\",\n",
        "         \"gato\": \"Bengal\"\n",
        "         }\n",
        "\n",
        "razas"
      ]
    },
    {
      "cell_type": "code",
      "execution_count": null,
      "metadata": {
        "colab": {
          "base_uri": "https://localhost:8080/"
        },
        "id": "66x6gGo8NrO7",
        "outputId": "4be6d73a-c779-44ac-a3ac-f5be185b204b"
      },
      "outputs": [
        {
          "data": {
            "text/plain": [
              "{'Labrador': 'perro',\n",
              " 'Golden Retriever': 'perro',\n",
              " 'Galgo': 'perro',\n",
              " 'Siamés': 'gato',\n",
              " 'Persa': 'gato',\n",
              " 'Sphynx': 'gato'}"
            ]
          },
          "execution_count": 134,
          "metadata": {},
          "output_type": "execute_result"
        }
      ],
      "source": [
        "# SI podemos tener diferentes claves que tengan asignado el mismo valor 'perro' o 'gato'\n",
        "# Creación del diccionario inicial con algunas razas de perros y gatos.\n",
        "dic_razas = {\"Labrador\": \"perro\",\n",
        "             \"Golden Retriever\": \"perro\",\n",
        "             \"Galgo\": \"perro\",\n",
        "             \"Siamés\": \"gato\",\n",
        "             \"Persa\": \"gato\",\n",
        "             \"Sphynx\": \"gato\"}\n",
        "\n",
        "dic_razas"
      ]
    },
    {
      "cell_type": "code",
      "execution_count": null,
      "metadata": {
        "colab": {
          "base_uri": "https://localhost:8080/"
        },
        "id": "2JqvijdQZL7J",
        "outputId": "52dfc5cf-6f39-4769-9e39-9cd7dc7fa0ca"
      },
      "outputs": [
        {
          "data": {
            "text/plain": [
              "6"
            ]
          },
          "execution_count": 135,
          "metadata": {},
          "output_type": "execute_result"
        }
      ],
      "source": [
        "# Contamos cuantos pares de key-value tenemos\n",
        "len(dic_razas)"
      ]
    },
    {
      "cell_type": "code",
      "execution_count": null,
      "metadata": {
        "colab": {
          "base_uri": "https://localhost:8080/"
        },
        "id": "LT1LCxS4PxoV",
        "outputId": "8675bf27-f4f8-437a-cd8f-a47c1d7217d8"
      },
      "outputs": [
        {
          "data": {
            "text/plain": [
              "{'Labrador': 'perro',\n",
              " 'Golden Retriever': 'perro',\n",
              " 'Galgo': 'perro',\n",
              " 'Siamés': 'gato',\n",
              " 'Persa': 'gato',\n",
              " 'Sphynx': 'gato',\n",
              " 'Beagle': 'perro'}"
            ]
          },
          "execution_count": 124,
          "metadata": {},
          "output_type": "execute_result"
        }
      ],
      "source": [
        "# Añadir una nueva entrada para la raza \"Beagle\".\n",
        "dic_razas[\"Beagle\"] = \"perro\"\n",
        "dic_razas"
      ]
    },
    {
      "cell_type": "code",
      "execution_count": null,
      "metadata": {
        "colab": {
          "base_uri": "https://localhost:8080/"
        },
        "id": "Q5lWiXAfQtNK",
        "outputId": "7d0c99a3-60d1-4e4c-b134-b23b44546e07"
      },
      "outputs": [
        {
          "data": {
            "text/plain": [
              "{'Labrador': 'perro',\n",
              " 'Golden Retriever': 'perro',\n",
              " 'Galgo': 'perro',\n",
              " 'Siamés': 'gato',\n",
              " 'Persa': 'gato',\n",
              " 'Sphynx': 'gato',\n",
              " 'Beagle': 'perro',\n",
              " 'Bengal': 'gato'}"
            ]
          },
          "execution_count": 125,
          "metadata": {},
          "output_type": "execute_result"
        }
      ],
      "source": [
        "# Actualizar el diccionario utilizando el método update para añadir \"Bengal\".\n",
        "dic_razas.update({\"Bengal\": \"gato\"})\n",
        "dic_razas"
      ]
    },
    {
      "cell_type": "code",
      "execution_count": null,
      "metadata": {
        "colab": {
          "base_uri": "https://localhost:8080/"
        },
        "id": "NTPQTMO2T1DW",
        "outputId": "b3ff600f-609e-46ee-e8b2-e4d6ddf1501d"
      },
      "outputs": [
        {
          "name": "stdout",
          "output_type": "stream",
          "text": [
            "Copia: {'Labrador': 'perro', 'Golden Retriever': 'perro', 'Galgo': 'perro', 'Siamés': 'gato', 'Persa': 'gato', 'Sphynx': 'gato', 'Beagle': 'perro', 'Bengal': 'gato'}\n",
            "\n",
            "Original: {'Labrador': 'perro', 'Golden Retriever': 'perro', 'Galgo': 'perro', 'Siamés': 'gato', 'Persa': 'gato', 'Sphynx': 'gato', 'Beagle': 'perro', 'Bengal': 'gato'}\n",
            "\n",
            "Copia: {'Labrador': 'animal', 'Golden Retriever': 'perro', 'Galgo': 'perro', 'Siamés': 'gato', 'Persa': 'gato', 'Sphynx': 'gato', 'Beagle': 'perro', 'Bengal': 'gato'}\n"
          ]
        }
      ],
      "source": [
        "# Copia superficial: usando el método copy()\n",
        "\n",
        "# Crear una copia superficial del diccionario.\n",
        "copia_dic_razas = dic_razas.copy()\n",
        "print(\"Copia:\", copia_dic_razas)\n",
        "\n",
        "# Modificar la copia\n",
        "copia_dic_razas[\"Labrador\"] = \"animal\"\n",
        "\n",
        "# Mostrar ambos diccionarios\n",
        "print(\"\\nOriginal:\", dic_razas)\n",
        "print(\"\\nCopia:\", copia_dic_razas)"
      ]
    },
    {
      "cell_type": "code",
      "execution_count": null,
      "metadata": {
        "colab": {
          "base_uri": "https://localhost:8080/"
        },
        "id": "Svo0oBigVLKw",
        "outputId": "ef8c6d77-cef7-4b1f-f994-08288e9a1fa4"
      },
      "outputs": [
        {
          "name": "stdout",
          "output_type": "stream",
          "text": [
            "Diccionario:  {'Labrador': 'perro', 'Golden Retriever': 'perro', 'Galgo': 'perro', 'Siamés': 'gato', 'Persa': 'gato', 'Sphynx': 'gato', 'Beagle': 'perro', 'Bengal': 'gato'}\n",
            "\n",
            "Claves del diccionario: dict_keys(['Labrador', 'Golden Retriever', 'Galgo', 'Siamés', 'Persa', 'Sphynx', 'Beagle', 'Bengal'])\n",
            "\n",
            "Valores del diccionario: dict_values(['perro', 'perro', 'perro', 'gato', 'gato', 'gato', 'perro', 'gato'])\n",
            "\n",
            "Pares clave-valor del diccionario: dict_items([('Labrador', 'perro'), ('Golden Retriever', 'perro'), ('Galgo', 'perro'), ('Siamés', 'gato'), ('Persa', 'gato'), ('Sphynx', 'gato'), ('Beagle', 'perro'), ('Bengal', 'gato')])\n"
          ]
        }
      ],
      "source": [
        "# Obtener claves, valores y pares clave-valor\n",
        "# usando los métodos keys(), values() e items(), respectivamente.\n",
        "print(\"Diccionario: \", dic_razas)\n",
        "\n",
        "# Obtener todas las claves del diccionario\n",
        "claves = dic_razas.keys()\n",
        "print(\"\\nClaves del diccionario:\", claves)\n",
        "\n",
        "# Obtener todos los valores del diccionario\n",
        "valores = dic_razas.values()\n",
        "print(\"\\nValores del diccionario:\", valores)\n",
        "\n",
        "# Obtener todos los pares clave-valor del diccionario\n",
        "items = dic_razas.items()\n",
        "print(\"\\nPares clave-valor del diccionario:\", items)"
      ]
    },
    {
      "cell_type": "code",
      "execution_count": null,
      "metadata": {
        "colab": {
          "base_uri": "https://localhost:8080/"
        },
        "id": "pHCWP8v3Vuf0",
        "outputId": "b6a83549-c694-4491-cc6b-bd163bc9d8c1"
      },
      "outputs": [
        {
          "name": "stdout",
          "output_type": "stream",
          "text": [
            "Valor de 'Labrador' usando setdefault: perro\n",
            "\n",
            "Valor de 'Rottweiler' usando setdefault: perrito\n",
            "\n",
            "Diccionario después de usar setdefault: {'Labrador': 'perro', 'Golden Retriever': 'perro', 'Galgo': 'perro', 'Siamés': 'gato', 'Persa': 'gato', 'Sphynx': 'gato', 'Beagle': 'perro', 'Bengal': 'gato', 'Rottweiler': 'perrito'}\n"
          ]
        }
      ],
      "source": [
        "# Usar setdefault():\n",
        "# Devuelve el valor de una clave si existe,\n",
        "# de lo contrario inserta la clave con un valor dado.\n",
        "\n",
        "# Obtener el valor de una clave existente (\"Labrador\")\n",
        "# y añadir una clave inexistente (\"Rottweiler\") con un valor predeterminado (\"perro\").\n",
        "\n",
        "# Obtener el valor de una clave existente\n",
        "valor_existente = dic_razas.setdefault(\"Labrador\", \"animal\")\n",
        "\n",
        "# Obtener el valor de una clave inexistente y establecer un valor por defecto\n",
        "valor_nuevo = dic_razas.setdefault(\"Rottweiler\", \"perrito\")\n",
        "\n",
        "# Mostrar los valores obtenidos y el diccionario actualizado\n",
        "print(\"Valor de 'Labrador' usando setdefault:\", valor_existente)\n",
        "print(\"\\nValor de 'Rottweiler' usando setdefault:\", valor_nuevo)\n",
        "print(\"\\nDiccionario después de usar setdefault:\", dic_razas)"
      ]
    },
    {
      "cell_type": "code",
      "execution_count": null,
      "metadata": {
        "colab": {
          "base_uri": "https://localhost:8080/"
        },
        "id": "-NN_Rx_cXhS0",
        "outputId": "4b02b506-300c-493f-d5d2-e5b5c8ef7ea8"
      },
      "outputs": [
        {
          "name": "stdout",
          "output_type": "stream",
          "text": [
            "Nuevo diccionario con fromkeys: {'Perro': 'Mascota', 'Gato': 'Mascota', 'Ave': 'Mascota'}\n",
            "Nuevo diccionario de tipos de mascotas: {'Perro': ['Hamster', 'Raton'], 'Gato': ['Hamster', 'Raton'], 'Conejo': ['Hamster', 'Raton']}\n"
          ]
        }
      ],
      "source": [
        "# fromkeys(): Crea un nuevo diccionario con claves de un iterable y un valor predeterminado\n",
        "# donde todas las claves especificadas tienen el mismo valor predeterminado (\"Mascota\")\n",
        "\n",
        "# Crear un nuevo diccionario con claves especificadas y el mismo valor predeterminado (\"Mascota\")\n",
        "\n",
        "# Crear un iterable de claves\n",
        "claves_nuevas = [\"Perro\", \"Gato\", \"Ave\"]\n",
        "\n",
        "# Crear un nuevo diccionario con claves del iterable y un valor predeterminado\n",
        "nuevo_diccionario = dict.fromkeys(claves_nuevas, \"Mascota\")\n",
        "\n",
        "# Mostrar el nuevo diccionario\n",
        "print(\"Nuevo diccionario con fromkeys:\", nuevo_diccionario)\n",
        "\n",
        "# Otro ejemplo\n",
        "claves = ['Perro', 'Gato', 'Conejo']\n",
        "valores = ['Hamster', 'Raton']\n",
        "dic_nuevo = dict.fromkeys(claves, valores)\n",
        "print(\"Nuevo diccionario de tipos de mascotas:\", dic_nuevo)"
      ]
    },
    {
      "cell_type": "markdown",
      "metadata": {
        "id": "6S-w3rFjZaKF"
      },
      "source": [
        "Vamos a crear ahora otro diccionario, que la clave sea el nombre de la mascota y el valor sea un diccionario que tenga dos claves, la especie y la raza:"
      ]
    },
    {
      "cell_type": "code",
      "execution_count": null,
      "metadata": {
        "colab": {
          "base_uri": "https://localhost:8080/"
        },
        "id": "7FG70xYPYWlo",
        "outputId": "33de02b1-30d9-4ee7-e198-fd02c7ecce5c"
      },
      "outputs": [
        {
          "name": "stdout",
          "output_type": "stream",
          "text": [
            "En el diccionario de mascotas_disponibles tenemos 2 elementos, y se compone de: \n",
            " {'perro': 'Labrador', 'gato': 'Siamés'} \n",
            "\n",
            "En el diccionario de info_mascotas tenemos 2 elementos, y se compone de: \n",
            " {'Buddy': {'especie': 'perro', 'raza': 'Labrador'}, 'Misty': {'especie': 'gato', 'raza': 'Siamés'}} \n"
          ]
        }
      ],
      "source": [
        "# Creación de diccionario\n",
        "\n",
        "# Este diccionario asocia tipos de mascotas con una raza específica disponible en la tienda.\n",
        "mascotas_disponibles = {\"perro\": \"Labrador\",\n",
        "                        \"gato\": \"Siamés\"}\n",
        "\n",
        "# Este diccionario asocia nombres de mascotas con su especie y raza.\n",
        "info_mascotas = {\"Buddy\":{\"especie\": \"perro\", \"raza\": \"Labrador\"} ,\n",
        "                 \"Misty\": {\"especie\": \"gato\", \"raza\": \"Siamés\"}}\n",
        "\n",
        "\n",
        "# Imprime los diccionarios creados para verificar la información.\n",
        "print(f\"En el diccionario de mascotas_disponibles tenemos {len(mascotas_disponibles)} elementos, y se compone de: \\n {mascotas_disponibles} \")\n",
        "print(f\"\\nEn el diccionario de info_mascotas tenemos {len(info_mascotas)} elementos, y se compone de: \\n {info_mascotas} \")"
      ]
    },
    {
      "cell_type": "code",
      "execution_count": null,
      "metadata": {
        "colab": {
          "base_uri": "https://localhost:8080/"
        },
        "id": "skokO8lKaSYb",
        "outputId": "7c0dc4d8-846f-46e5-88d0-82fee0b2232a"
      },
      "outputs": [
        {
          "name": "stdout",
          "output_type": "stream",
          "text": [
            "El diccionario info_mascotas: {'Buddy': {'especie': 'perro', 'raza': 'Labrador'}, 'Misty': {'especie': 'gato', 'raza': 'Siamés'}, 'Sparky': {'especie': 'perro', 'raza': 'Golden Retriever'}}\n",
            "\n",
            "Información de Sparky: {'especie': 'perro', 'raza': 'Golden Retriever'}\n",
            "\n",
            "Especies registradas: dict_keys(['Buddy', 'Misty', 'Sparky'])\n",
            "\n",
            "Razas registradas: dict_values([{'especie': 'perro', 'raza': 'Labrador'}, {'especie': 'gato', 'raza': 'Siamés'}, {'especie': 'perro', 'raza': 'Golden Retriever'}])\n",
            "\n",
            "Información actualizada de mascotas: dict_items([('Buddy', {'especie': 'perro', 'raza': 'Labrador'}), ('Misty', {'especie': 'gato', 'raza': 'Siamés'}), ('Sparky', {'especie': 'perro', 'raza': 'Golden Retriever'})])\n"
          ]
        }
      ],
      "source": [
        "# Agregamos una nueva mascota al registro.\n",
        "info_mascotas[\"Sparky\"] = {\"especie\": \"perro\", \"raza\": \"Golden Retriever\"}\n",
        "print(\"El diccionario info_mascotas:\", info_mascotas)\n",
        "\n",
        "# Obtener información de una mascota específica.\n",
        "print(\"\\nInformación de Sparky:\", info_mascotas.get('Sparky'))\n",
        "\n",
        "# Imprimir la información actualizada de las mascotas\n",
        "print(\"\\nEspecies registradas:\", info_mascotas.keys())\n",
        "print(\"\\nRazas registradas:\", info_mascotas.values())\n",
        "print(\"\\nInformación actualizada de mascotas:\", info_mascotas.items())"
      ]
    },
    {
      "cell_type": "code",
      "execution_count": null,
      "metadata": {
        "colab": {
          "base_uri": "https://localhost:8080/"
        },
        "id": "_06LDWvKa76N",
        "outputId": "5626d867-abb7-44ac-e335-fd5f222c658e"
      },
      "outputs": [
        {
          "name": "stdout",
          "output_type": "stream",
          "text": [
            "El diccionario info_mascotas: {'Buddy': {'especie': 'perro', 'raza': 'Labrador'}, 'Misty': {'especie': 'gato', 'raza': 'Siamés'}, 'Sparky': {'especie': 'perro', 'raza': 'Golden Retriever'}}\n",
            "\n",
            "Información final de mascotas: {'Misty': {'especie': 'gato', 'raza': 'Siamés'}, 'Sparky': {'especie': 'perro', 'raza': 'Golden Retriever'}}\n"
          ]
        }
      ],
      "source": [
        "print(\"El diccionario info_mascotas:\", info_mascotas)\n",
        "\n",
        "# Eliminamos una mascota que ha sido adoptada.\n",
        "info_mascotas.pop('Buddy')\n",
        "\n",
        "# Imprimimos la información final de las mascotas después de las actualizaciones.\n",
        "print(\"\\nInformación final de mascotas:\", info_mascotas)"
      ]
    },
    {
      "cell_type": "code",
      "execution_count": null,
      "metadata": {
        "colab": {
          "base_uri": "https://localhost:8080/"
        },
        "id": "1iK6uz-WbcnD",
        "outputId": "5d1efe3d-e7da-4a70-9bf5-7e7c62f26ab6"
      },
      "outputs": [
        {
          "name": "stdout",
          "output_type": "stream",
          "text": [
            "\n",
            "Especies registradas: dict_keys(['Misty', 'Sparky']) son de tipo:  <class 'dict_keys'>\n",
            "\n",
            "Lista de especies: ['Misty', 'Sparky'] son de tipo:  <class 'list'>\n",
            "\n",
            "La primera clave:  Misty , en dic_razas tiene el siguiente valor: {'especie': 'gato', 'raza': 'Siamés'}\n"
          ]
        }
      ],
      "source": [
        "# Las claves (keys) tienen el tipo dict_keys\n",
        "print(\"\\nEspecies registradas:\", info_mascotas.keys(), \"son de tipo: \", type(info_mascotas.keys()))\n",
        "\n",
        "# Podemos convertirlo a una lista con \"list\"\n",
        "claves_mascotas = list(info_mascotas.keys())\n",
        "print(\"\\nLista de especies:\", claves_mascotas, \"son de tipo: \", type(claves_mascotas))\n",
        "\n",
        "# Podemos acceder a cualquier elemento como en una lista\n",
        "primer_elemento = claves_mascotas[0]\n",
        "print(\"\\nLa primera clave: \", primer_elemento, \", en dic_razas tiene el siguiente valor:\", info_mascotas.get(primer_elemento))\n"
      ]
    },
    {
      "cell_type": "markdown",
      "metadata": {
        "id": "JFcy1I1jdtXo"
      },
      "source": [
        "##### 🎈 Ejercicio dict libros 🎈"
      ]
    },
    {
      "cell_type": "markdown",
      "metadata": {
        "id": "1Mh8xRBee9TZ"
      },
      "source": [
        "Imagina que eres el encargado de gestionar una biblioteca digital. Necesitas realizar varias operaciones para mantener y actualizar la colección de libros y sus autores utilizando diccionarios en Python.\n",
        "\n",
        "1. Crear un diccionario con títulos de libros y sus autores:\n",
        "\n",
        "\n",
        "> Cien Años de Soledad- Gabriel García Márquez\n",
        "\n",
        "> 1984 - George Orwell\n",
        "\n",
        "> Don Quijote de la Mancha - Miguel de Cervantes\n",
        "\n",
        "2. Añadir un nuevo libro: \"El Hobbit\" con autor \"J.R.R. Tolkien\"\n",
        "\n",
        "3. Actualizar el autor de un libro: El autor de \"1984\" a \"Orwell\"\n",
        "\n",
        "4. Eliminar un libro: \"Don Quijote de la Mancha\"\n",
        "\n",
        "5. Imprimir todos los libros y autores"
      ]
    },
    {
      "cell_type": "code",
      "execution_count": null,
      "metadata": {
        "id": "jJ4KWC9TgIxQ"
      },
      "outputs": [],
      "source": [
        "# Paso 1: Crear el diccionario de libros con sus autores.\n",
        "\n",
        "\n",
        "# Paso 2: Añadir un nuevo libro \"El Hobbit\" con autor \"J.R.R. Tolkien\".\n",
        "\n",
        "# Paso 3: Actualizar el autor de \"1984\" a \"Orwell\".\n",
        "\n",
        "# Paso 4: Eliminar el libro \"Don Quijote de la Mancha\".\n",
        "\n",
        "# Paso 5: Imprimir todos los libros y autores.\n"
      ]
    },
    {
      "cell_type": "markdown",
      "metadata": {
        "id": "hqRxiJ7FYMeR"
      },
      "source": [
        "#### Tuplas"
      ]
    },
    {
      "cell_type": "markdown",
      "metadata": {
        "id": "TosKH31jhGvs"
      },
      "source": [
        "Una tupla es una colección ordenada e inmutable de elementos en Python. A diferencia de las listas, una vez que una tupla se crea, sus elementos no pueden ser modificados.\n",
        "\n",
        "- Las tuplas se definen utilizando **paréntesis ()** (son opcionales pero su uso es una buena práctica para hacer el código más legible)\n",
        "\n",
        "- **Inmutables:** Una vez creada, no puedes modificar, añadir, o eliminar elementos de una tupla. Esto las hace ideales para asegurar que ciertos datos permanezcan constantes a lo largo de tu programa.\n",
        "\n",
        "- **Indexadas:** Los elementos tienen un orden definido y se puede acceder a sus elementos mediante índices, al igual que en las listas. El índice de los elementos inicia en 0.\n",
        "\n",
        "- **Permiten elementos duplicados:** Una tupla puede contener elementos duplicados.\n",
        "\n",
        "- **Pueden contener elementos de distintos tipos:** Una tupla puede contener una combinación de diferentes tipos de datos, incluyendo números, cadenas, listas e incluso otras tuplas.\n",
        "\n",
        "**Operaciones Básicas con Tuplas**\n",
        "\n",
        "- **Creación:** Se definen usando paréntesis (), separando los elementos por comas.\n",
        "\n",
        "- **Acceso:** Los elementos se acceden usando índices.\n",
        "\n",
        "- **Desempaquetado:** Se puede asignar los elementos de una tupla a variables.\n",
        "\n",
        "- **Concatenación y repetición:** Se pueden concatenar y repetir tuplas usando los operadores + y *.\n"
      ]
    },
    {
      "cell_type": "code",
      "execution_count": null,
      "metadata": {
        "colab": {
          "base_uri": "https://localhost:8080/"
        },
        "id": "mwewXM4EiIMZ",
        "outputId": "8aa3814a-9cef-46ba-b83c-c4143e770501"
      },
      "outputs": [
        {
          "name": "stdout",
          "output_type": "stream",
          "text": [
            "\n",
            "Tupla: (1, 'manzana', 3.14, [2, 4, 6]) con tipo:  <class 'tuple'>\n",
            "\n",
            "Primer elemento: 1\n",
            "\n",
            "Desempaquetado: 1 manzana 3.14 [2, 4, 6]\n",
            "\n",
            "Tupla concatenada: (1, 2, 3, 4, 5, 6)\n",
            "\n",
            "Tupla repetida: (1, 2, 3, 1, 2, 3, 1, 2, 3)\n"
          ]
        }
      ],
      "source": [
        "# Definición de una tupla con varios tipos de datos\n",
        "mi_tupla = (1, \"manzana\", 3.14, [2, 4, 6])\n",
        "print(\"\\nTupla:\", mi_tupla, \"con tipo: \", type(mi_tupla))\n",
        "\n",
        "# Acceso a elementos individuales mediante índices\n",
        "primer_elemento = mi_tupla[0]\n",
        "print(\"\\nPrimer elemento:\", primer_elemento)\n",
        "\n",
        "# Desempaquetado de una tupla en variables individuales\n",
        "(a, b, c, d) = mi_tupla\n",
        "print(\"\\nDesempaquetado:\", a, b, c, d)\n",
        "\n",
        "# Concatenación de tuplas\n",
        "tupla1 = (1, 2, 3)\n",
        "tupla2 = (4, 5, 6)\n",
        "tupla_concatenada = tupla1 + tupla2\n",
        "print(\"\\nTupla concatenada:\", tupla_concatenada)\n",
        "\n",
        "# Repetición de tuplas\n",
        "tupla_repetida = tupla1 * 3\n",
        "print(\"\\nTupla repetida:\", tupla_repetida)\n"
      ]
    },
    {
      "cell_type": "markdown",
      "metadata": {
        "id": "J5bSSEhHiuW0"
      },
      "source": [
        "\n",
        "##### ⭐ Ejemplo tupla compra ⭐\n"
      ]
    },
    {
      "cell_type": "markdown",
      "metadata": {
        "id": "WMBxTD1GiwiV"
      },
      "source": [
        "Imagina que estás organizando una lista de compras y necesitas almacenar los artículos y la cantidad que necesitas comprar:\n",
        "\n",
        "1. Crea una tupla que contenga varios artículos y sus respectivas cantidades.\n",
        "2. Crea una tupla con un único artículo.\n",
        "3. Demuestra la diferencia entre una tupla de un solo elemento y una cadena.\n",
        "4. Junta ambas tuplas"
      ]
    },
    {
      "cell_type": "code",
      "execution_count": null,
      "metadata": {
        "colab": {
          "base_uri": "https://localhost:8080/"
        },
        "id": "KNp8OxUTi8Be",
        "outputId": "6baecebf-5d74-4bc8-cc4e-f7ae25f34f38"
      },
      "outputs": [
        {
          "data": {
            "text/plain": [
              "(('Manzanas', 10), ('Leche', 1), ('Huevos', 12), ('Pan', 2))"
            ]
          },
          "execution_count": 170,
          "metadata": {},
          "output_type": "execute_result"
        }
      ],
      "source": [
        "# Paso 1: Definición de una tupla para cada artículo de la lista de compras.\n",
        "# Cada tupla contiene el nombre del artículo y la cantidad que necesitas comprar.\n",
        "tupla_compras = ((\"Manzanas\", 10), (\"Leche\", 1), (\"Huevos\", 12), (\"Pan\", 2))\n",
        "tupla_compras"
      ]
    },
    {
      "cell_type": "code",
      "execution_count": null,
      "metadata": {
        "colab": {
          "base_uri": "https://localhost:8080/"
        },
        "id": "GzlknUDUi80H",
        "outputId": "f141f892-7b32-439a-d71f-ce5f31115e73"
      },
      "outputs": [
        {
          "name": "stdout",
          "output_type": "stream",
          "text": [
            "('Aceite de oliva',)\n",
            "\n",
            "Tipo de 'tupla_unico_articulo': <class 'tuple'>\n"
          ]
        }
      ],
      "source": [
        "# Paso 2: Creación de una tupla que contiene un único elemento:\n",
        "#  un artículo que recordaste que necesitas, pero solo uno.\n",
        "tupla_unico_articulo = (\"Aceite de oliva\",)\n",
        "print(tupla_unico_articulo)\n",
        "\n",
        "# Al imprimir el tipo de 'tupla_unico_articulo', confirmamos que es una tupla.\n",
        "print(\"\\nTipo de 'tupla_unico_articulo':\", type(tupla_unico_articulo))"
      ]
    },
    {
      "cell_type": "code",
      "execution_count": null,
      "metadata": {
        "colab": {
          "base_uri": "https://localhost:8080/"
        },
        "id": "gYD3BgTIi-oX",
        "outputId": "5c7dc099-cb29-4326-8c75-c4eb1cc8da1b"
      },
      "outputs": [
        {
          "name": "stdout",
          "output_type": "stream",
          "text": [
            "Papel higiénico\n",
            "\n",
            "Tipo de 'no_es_tupla': <class 'str'>\n"
          ]
        }
      ],
      "source": [
        "# Paso 3: Intento de crear una 'lista' de un solo artículo sin usar la coma, para ver la diferencia.\n",
        "no_es_tupla = (\"Papel higiénico\")\n",
        "print(no_es_tupla)\n",
        "\n",
        "# Al imprimir el tipo de 'no_es_tupla', mostramos que es una cadena, no una tupla.\n",
        "print(\"\\nTipo de 'no_es_tupla':\", type(no_es_tupla))"
      ]
    },
    {
      "cell_type": "code",
      "execution_count": null,
      "metadata": {
        "colab": {
          "base_uri": "https://localhost:8080/"
        },
        "id": "TOvo8Nodjkyi",
        "outputId": "e713d6d7-3283-4ffe-88b6-10468541dc0e"
      },
      "outputs": [
        {
          "name": "stdout",
          "output_type": "stream",
          "text": [
            "Lista completa de compras: (('Manzanas', 10), ('Leche', 1), ('Huevos', 12), ('Pan', 2), 'Aceite de oliva')\n"
          ]
        }
      ],
      "source": [
        "# Paso 4: Juntamos ambas tuplas\n",
        "lista_completa = tupla_compras + tupla_unico_articulo\n",
        "print(\"Lista completa de compras:\", lista_completa)"
      ]
    },
    {
      "cell_type": "markdown",
      "metadata": {
        "id": "v5AGya-QYSDE"
      },
      "source": [
        "#### Sets"
      ]
    },
    {
      "cell_type": "markdown",
      "metadata": {
        "id": "OxkT5tbpkFRE"
      },
      "source": [
        "Un **conjunto** (set) es una colección desordenada y sin elementos duplicados. Los conjuntos se utilizan para almacenar múltiples elementos en una sola variable y para realizar operaciones matemáticas de conjuntos, como la unión, la intersección y la diferencia.\n",
        "\n",
        "**Características de los Conjuntos**\n",
        "\n",
        "- Un set se define con **llaves {}**, y cada elemento es **único**.\n",
        "- **Sin duplicados:** No permiten elementos duplicados.\n",
        "- **Desordenados:** No mantienen un orden específico de los elementos,y el orden puede cambiar con cada ejecución.\n",
        "- **Mutables:** Puedes añadir y eliminar elementos, aunque los elementos deben ser inmutables (como números, cadenas y tuplas).\n",
        "- **No Indexados:** No puedes acceder a los elementos de un conjunto mediante índices como lo harías en una lista o tupla.\n",
        "- **Especificidad de Valores:** En un conjunto, True es considerado igual a 1, y False igual a 0, debido a cómo Python maneja la igualdad de valores.\n",
        "\n",
        "**Operaciones Básicas con Conjuntos**\n",
        "\n",
        "- **Crear un conjunto:** Utilizando llaves {} o la función set().\n",
        "- **Añadir elementos:** Utilizando el método add().\n",
        "- **Eliminar elementos:** Utilizando los métodos remove(), discard(), pop().\n",
        "- **Operaciones matemáticas:**\n",
        "    - unión: union()\n",
        "    - intersección: intersection()\n",
        "    - diferencia: difference()\n",
        "    - diferencia simétrica: symmetric_difference()\n"
      ]
    },
    {
      "cell_type": "code",
      "execution_count": null,
      "metadata": {
        "colab": {
          "base_uri": "https://localhost:8080/"
        },
        "id": "uhNZGf2zlq9V",
        "outputId": "268a7ee4-a164-4203-cc51-fb5c4549b2b3"
      },
      "outputs": [
        {
          "name": "stdout",
          "output_type": "stream",
          "text": [
            "campo2: {'Bien', 'Hola', 'Tal', 'Todo', 'Que'}\n",
            "campo2: {'Bien', 'Hola', 'Todo'}\n",
            "<class 'set'> <class 'set'>\n"
          ]
        }
      ],
      "source": [
        "# Crear dos conjuntos con algunos elementos comunes y otros únicos.\n",
        "campo1 = {'Hola', 'Hola', 'Hola', 'Que', 'Tal', 'Todo', 'Bien'}\n",
        "campo2 = {'Hola', 'Todo', 'Bien'}\n",
        "\n",
        "print(f\"campo2: {campo1}\")\n",
        "print(f\"campo2: {campo2}\")\n",
        "\n",
        "# Tipos de campo1 y campo2\n",
        "print(type(campo1), type(campo2))   # <class 'set'>"
      ]
    },
    {
      "cell_type": "code",
      "execution_count": null,
      "metadata": {
        "colab": {
          "base_uri": "https://localhost:8080/"
        },
        "id": "ci1OPDc0mLsU",
        "outputId": "8d573336-7363-4646-d0b5-c4ec4719548e"
      },
      "outputs": [
        {
          "name": "stdout",
          "output_type": "stream",
          "text": [
            "Intersección: {'Bien', 'Hola', 'Todo'}\n"
          ]
        }
      ],
      "source": [
        "# Intersección de conjuntos: elementos que están en ambos conjuntos.\n",
        "interseccion = campo1.intersection(campo2)\n",
        "print(\"Intersección:\", interseccion)\n",
        "# Output: {'Hola', 'Todo', 'Bien'}"
      ]
    },
    {
      "cell_type": "code",
      "execution_count": null,
      "metadata": {
        "colab": {
          "base_uri": "https://localhost:8080/"
        },
        "id": "1H4dbOW7lz2k",
        "outputId": "598b214c-932f-468a-9e3a-09dc55a45527"
      },
      "outputs": [
        {
          "name": "stdout",
          "output_type": "stream",
          "text": [
            "Unión: {'Bien', 'Hola', 'Tal', 'Todo', 'Que'}\n"
          ]
        }
      ],
      "source": [
        "# Unión de conjuntos: todos los elementos únicos presentes en ambos conjuntos.\n",
        "union = campo1.union(campo2)\n",
        "print(\"Unión:\", union)\n",
        "# Output: {'Hola', 'Que', 'Tal', 'Todo', 'Bien'}"
      ]
    },
    {
      "cell_type": "markdown",
      "metadata": {
        "id": "NaBxyfkvmd0F"
      },
      "source": [
        "##### ⭐ Ejemplo set numerico ⭐"
      ]
    },
    {
      "cell_type": "code",
      "execution_count": null,
      "metadata": {
        "colab": {
          "base_uri": "https://localhost:8080/"
        },
        "id": "L367WpECmbwz",
        "outputId": "6b1b8732-c0d1-454e-99e3-79cde7234b67"
      },
      "outputs": [
        {
          "name": "stdout",
          "output_type": "stream",
          "text": [
            "Conjunto 1: {1, 2, 3, 4}\n",
            "Conjunto 2: {8, 5, 6, 7}\n"
          ]
        }
      ],
      "source": [
        "# Crear un conjunto utilizando llaves {}\n",
        "conjunto1 = {1, 2, 3, 4, 4}\n",
        "print(\"Conjunto 1:\", conjunto1)  # Output: {1, 2, 3, 4}\n",
        "\n",
        "# Crear un conjunto utilizando la función set()\n",
        "conjunto2 = set([5, 6, 7, 8])\n",
        "print(\"Conjunto 2:\", conjunto2)  # Output: {8, 5, 6, 7}\n",
        "\n",
        "# Error => unhashable type: 'list' (porque las listas son mutables)\n",
        "#conjunto3 = {1, 2, 3, 4, 4, [5,6]}"
      ]
    },
    {
      "cell_type": "code",
      "execution_count": null,
      "metadata": {
        "colab": {
          "base_uri": "https://localhost:8080/"
        },
        "id": "_sMGWYRumnox",
        "outputId": "f7dec6ea-3b58-4f05-89f1-3f66743d7491"
      },
      "outputs": [
        {
          "name": "stdout",
          "output_type": "stream",
          "text": [
            "Después de añadir 5 a Conjunto 1: {1, 2, 3, 4, 5}\n"
          ]
        }
      ],
      "source": [
        "# añadir elementos a un conjunto utilizando el método add()\n",
        "conjunto1.add(5)\n",
        "print(\"Después de añadir 5 a Conjunto 1:\", conjunto1)  # Output: {1, 2, 3, 4, 5}"
      ]
    },
    {
      "cell_type": "code",
      "execution_count": null,
      "metadata": {
        "colab": {
          "base_uri": "https://localhost:8080/"
        },
        "id": "oPBQxKXTm_og",
        "outputId": "3a00b836-e8dd-4e0f-d024-33bda41f6151"
      },
      "outputs": [
        {
          "name": "stdout",
          "output_type": "stream",
          "text": [
            "Después de eliminar 5 con remove: {1, 2, 3, 4}\n",
            "Después de eliminar 4 con discard: {1, 2, 3}\n",
            "Elemento eliminado con pop: 1\n",
            "Después de eliminar un elemento con pop: {2, 3}\n"
          ]
        }
      ],
      "source": [
        "# eliminar elementos de un conjunto utilizando los métodos remove(), discard(), y pop()\n",
        "\n",
        "# Utilizando remove()\n",
        "conjunto1.remove(5)\n",
        "print(\"Después de eliminar 5 con remove:\", conjunto1)  # Output: {1, 2, 3, 4}\n",
        "\n",
        "# Utilizando discard() (no produce error si el elemento no existe)\n",
        "conjunto1.discard(4)\n",
        "print(\"Después de eliminar 4 con discard:\", conjunto1)  # Output: {1, 2, 3}\n",
        "\n",
        "# Utilizando pop() (elimina y devuelve un elemento arbitrario)\n",
        "elemento_eliminado = conjunto1.pop()\n",
        "print(\"Elemento eliminado con pop:\", elemento_eliminado)\n",
        "print(\"Después de eliminar un elemento con pop:\", conjunto1)\n"
      ]
    },
    {
      "cell_type": "code",
      "execution_count": null,
      "metadata": {
        "colab": {
          "base_uri": "https://localhost:8080/"
        },
        "id": "AP5QBA6pnKK1",
        "outputId": "60319425-093a-42a2-82df-1a4f092e8cea"
      },
      "outputs": [
        {
          "name": "stdout",
          "output_type": "stream",
          "text": [
            "Unión: {1, 2, 3, 4, 5, 6, 7, 8, 9, 10}\n",
            "Intersección: {3, 5}\n",
            "Diferencia: {1, 2, 6, 7}\n",
            "Diferencia Simétrica: {1, 2, 4, 6, 7, 8, 9, 10}\n"
          ]
        }
      ],
      "source": [
        "# operaciones matemáticas como unión, intersección, diferencia y diferencia simétrica\n",
        "conjunto1 = {1, 2, 3, 5, 6, 7}\n",
        "conjunto2 = {3, 4, 5, 8, 9, 10}\n",
        "\n",
        "# Unión (elementos presentes en cualquiera de los dos conjuntos)\n",
        "union = conjunto1.union(conjunto2)\n",
        "print(\"Unión:\", union)\n",
        "\n",
        "# Intersección (elementos presentes en ambos conjuntos)\n",
        "interseccion = conjunto1.intersection(conjunto2)\n",
        "print(\"Intersección:\", interseccion)\n",
        "\n",
        "# Diferencia (elementos presentes en el primer conjunto pero no en el segundo)\n",
        "diferencia = conjunto1.difference(conjunto2)\n",
        "print(\"Diferencia:\", diferencia)\n",
        "\n",
        "# Diferencia Simétrica (elementos presentes en uno u otro conjunto, pero no en ambos)\n",
        "diferencia_simetrica = conjunto1.symmetric_difference(conjunto2)\n",
        "print(\"Diferencia Simétrica:\", diferencia_simetrica)\n"
      ]
    },
    {
      "cell_type": "markdown",
      "metadata": {
        "id": "9zTrrrl73TKe"
      },
      "source": [
        "## 5.Operadores"
      ]
    },
    {
      "cell_type": "markdown",
      "metadata": {
        "id": "mBrXLUsLKDn9"
      },
      "source": [
        "###Operadores aritméticos"
      ]
    },
    {
      "cell_type": "markdown",
      "metadata": {
        "id": "8u4lyjb7KJZp"
      },
      "source": [
        "![aritmeticos.png](data:image/png;base64,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)"
      ]
    },
    {
      "cell_type": "code",
      "execution_count": null,
      "metadata": {
        "colab": {
          "base_uri": "https://localhost:8080/"
        },
        "id": "HRMuIB3UGKFk",
        "outputId": "49ddab7f-bf4c-41c9-92ec-32405e4b1821"
      },
      "outputs": [
        {
          "name": "stdout",
          "output_type": "stream",
          "text": [
            "Suma: 13\n",
            "Resta: 7\n",
            "Multiplicación: 30\n",
            "División: 3.3333333333333335\n",
            "Módulo: 1\n",
            "Exponenciación: 1000\n",
            "División entera: 3\n"
          ]
        }
      ],
      "source": [
        "# Operadores aritméticos\n",
        "a = 10\n",
        "b = 3\n",
        "\n",
        "print(f\"Suma: {a + b}\")          # 13\n",
        "print(f\"Resta: {a - b}\")         # 7\n",
        "print(f\"Multiplicación: {a * b}\")# 30\n",
        "print(f\"División: {a / b}\")      # 3.333...\n",
        "print(f\"Módulo: {a % b}\")        # 1\n",
        "print(f\"Exponenciación: {a ** b}\") # 1000\n",
        "print(f\"División entera: {a // b}\") # 3\n"
      ]
    },
    {
      "cell_type": "code",
      "execution_count": null,
      "metadata": {
        "colab": {
          "base_uri": "https://localhost:8080/"
        },
        "id": "AgQFdDKnKJwg",
        "outputId": "e5467d20-eb88-460a-be6f-043440cff0a2"
      },
      "outputs": [
        {
          "data": {
            "text/plain": [
              "20"
            ]
          },
          "execution_count": 81,
          "metadata": {},
          "output_type": "execute_result"
        }
      ],
      "source": [
        "200.5 + 10\n",
        "200 - 10.5\n",
        "250 // 23 # 10,8695652173913\n",
        "250 % 23 # resto 20"
      ]
    },
    {
      "cell_type": "markdown",
      "metadata": {
        "id": "tb0O7ZCtGVav"
      },
      "source": [
        "#### 🎈 Ejercicio op aritmeticos 🎈"
      ]
    },
    {
      "cell_type": "markdown",
      "metadata": {
        "id": "jRTY3HCXGYxG"
      },
      "source": [
        "Calcula el área y el perímetro de un rectángulo de base 5 y altura 7."
      ]
    },
    {
      "cell_type": "code",
      "execution_count": null,
      "metadata": {
        "colab": {
          "base_uri": "https://localhost:8080/"
        },
        "id": "70XatBeGGafZ",
        "outputId": "3be09932-b62d-4be7-b8d7-3c0dcd3cb4b1"
      },
      "outputs": [
        {
          "name": "stdout",
          "output_type": "stream",
          "text": [
            "Área del rectángulo: 35\n",
            "Perímetro del rectángulo: 24\n"
          ]
        }
      ],
      "source": [
        "\n"
      ]
    },
    {
      "cell_type": "markdown",
      "metadata": {
        "id": "APdNsJQa9TyH"
      },
      "source": [
        "### Operadores relacionales"
      ]
    },
    {
      "cell_type": "markdown",
      "metadata": {
        "id": "S7sLbGI_3V93"
      },
      "source": [
        "\n",
        "![relacionales.png](data:image/png;base64,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)"
      ]
    },
    {
      "cell_type": "code",
      "execution_count": null,
      "metadata": {
        "colab": {
          "base_uri": "https://localhost:8080/"
        },
        "id": "8oeh-7y5GjFz",
        "outputId": "0521e3fd-af46-4734-d0b2-5d91494bd838"
      },
      "outputs": [
        {
          "name": "stdout",
          "output_type": "stream",
          "text": [
            "False\n",
            "True\n",
            "False\n",
            "True\n",
            "False\n",
            "True\n"
          ]
        }
      ],
      "source": [
        "# Operadores relacionales\n",
        "x = 10\n",
        "y = 20\n",
        "\n",
        "print(x == y)  # False\n",
        "print(x != y)  # True\n",
        "print(x > y)   # False\n",
        "print(x < y)   # True\n",
        "print(x >= y)  # False\n",
        "print(x <= y)  # True\n"
      ]
    },
    {
      "cell_type": "code",
      "execution_count": null,
      "metadata": {
        "colab": {
          "base_uri": "https://localhost:8080/"
        },
        "id": "3tg6v5xNGxC7",
        "outputId": "f1ada5e0-7321-4830-d31b-5d1e312fa936"
      },
      "outputs": [
        {
          "name": "stdout",
          "output_type": "stream",
          "text": [
            "Introduce un número: 5\n",
            "El número es positivo.\n"
          ]
        }
      ],
      "source": [
        "numero = int(input(\"Introduce un número: \"))\n",
        "\n",
        "if numero > 0:\n",
        "    print(\"El número es positivo.\")\n",
        "elif numero < 0:\n",
        "    print(\"El número es negativo.\")\n",
        "else:\n",
        "    print(\"El número es cero.\")\n"
      ]
    },
    {
      "cell_type": "code",
      "execution_count": null,
      "metadata": {
        "colab": {
          "base_uri": "https://localhost:8080/"
        },
        "id": "KF31bqOcGJT6",
        "outputId": "b0b045bd-a6f7-4161-c8ad-9a7528e33539"
      },
      "outputs": [
        {
          "data": {
            "text/plain": [
              "True"
            ]
          },
          "execution_count": 146,
          "metadata": {},
          "output_type": "execute_result"
        }
      ],
      "source": [
        "125 > 125.02\n",
        "\n",
        "division = 100 / 2\n",
        "51 == division\n",
        "\n",
        "\"cincuenta\" != 'cincuenta'"
      ]
    },
    {
      "cell_type": "markdown",
      "metadata": {
        "id": "P_Y8dbAyG5vA"
      },
      "source": [
        "#### ⭐ Ejemplo op relacionales ⭐"
      ]
    },
    {
      "cell_type": "code",
      "execution_count": null,
      "metadata": {
        "colab": {
          "base_uri": "https://localhost:8080/"
        },
        "id": "Nwzdw5sESjWF",
        "outputId": "63c77f85-fae2-4d11-dd23-825ecbb65832"
      },
      "outputs": [
        {
          "name": "stdout",
          "output_type": "stream",
          "text": [
            "False\n",
            "True\n",
            "False\n"
          ]
        }
      ],
      "source": [
        "# Se definen dos listas de marcas de automóviles.\n",
        "lista1 = [\"Toyota\", \"Ford\", \"BMW\"]\n",
        "lista2 = [\"Mercedes-Benz\", \"Honda\", \"Volkswagen\", \"Ford\"]\n",
        "\n",
        "# Compara si ambas listas tienen la misma cantidad de elementos.\n",
        "print(len(lista1) == len(lista2))  # Imprime True si tienen la misma longitud, de lo contrario False.\n",
        "\n",
        "# Comprueba si la longitud de la primera lista es menor o igual que la de la segunda.\n",
        "print(len(lista1) <= len(lista2))  # Imprime True si lista1 es más corta o igual de larga que lista2.\n",
        "\n",
        "# Compara la longitud del primer elemento de cada lista para ver cuál es más largo.\n",
        "print(len(lista1[0]) > len(lista2[0]))  # Imprime True si el primer elemento de lista1 es más largo que el de lista2.\n",
        "\n"
      ]
    },
    {
      "cell_type": "code",
      "execution_count": null,
      "metadata": {
        "colab": {
          "base_uri": "https://localhost:8080/"
        },
        "id": "fKcBdMpg8MOf",
        "outputId": "e374eb20-e9c7-4fa0-860d-c335bf8b635b"
      },
      "outputs": [
        {
          "name": "stdout",
          "output_type": "stream",
          "text": [
            "Introduce una contraseña: hola_123\n",
            "Vuelve a introducir la contraseña: hola_123\n",
            "Contraseña correctamente almacenada\n"
          ]
        }
      ],
      "source": [
        "# Solicita al usuario que introduzca una contraseña.\n",
        "password = input(\"Introduce una contraseña: \")\n",
        "\n",
        "# Solicita al usuario que vuelva a introducir la misma contraseña para confirmación.\n",
        "password_check = input(\"Vuelve a introducir la contraseña: \")\n",
        "\n",
        "# Compara las dos contraseñas introducidas para verificar si son iguales.\n",
        "if password == password_check:\n",
        "  # Si las contraseñas coinciden, imprime un mensaje de éxito.\n",
        "  print(\"Contraseña correctamente almacenada\")\n",
        "else:\n",
        "  # Si las contraseñas no coinciden, informa al usuario que no son iguales.\n",
        "  print(\"Las contraseñas no coinciden\")\n"
      ]
    },
    {
      "cell_type": "markdown",
      "metadata": {
        "id": "o0TeXVRv9ONq"
      },
      "source": [
        "###Operadores lógicos"
      ]
    },
    {
      "cell_type": "markdown",
      "metadata": {
        "id": "3Z9wbub-32Rh"
      },
      "source": [
        "\n",
        "![logicos.png](data:image/png;base64,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)"
      ]
    },
    {
      "cell_type": "markdown",
      "metadata": {
        "id": "JsEOeJ5E4F8P"
      },
      "source": [
        "Buscando un resultado en **True**:\n",
        "*  AND, &: todos los elementos deben ser True\n",
        "*  OR, |: basta con que uno de los elementos sea True"
      ]
    },
    {
      "cell_type": "code",
      "execution_count": null,
      "metadata": {
        "colab": {
          "base_uri": "https://localhost:8080/"
        },
        "id": "n1oNYwgYHIaT",
        "outputId": "47181f02-6e67-4d24-83be-92306b2b870e"
      },
      "outputs": [
        {
          "name": "stdout",
          "output_type": "stream",
          "text": [
            "False\n",
            "True\n",
            "False\n"
          ]
        }
      ],
      "source": [
        "# Operadores lógicos\n",
        "a = True\n",
        "b = False\n",
        "\n",
        "# Uso del operador lógico 'and' para evaluar la expresión.\n",
        "# La operación 'and' devuelve True si los dos operandos es True.\n",
        "print(a and b)  # False\n",
        "\n",
        "# Uso del operador lógico 'or' para evaluar la expresión.\n",
        "# La operación 'or' devuelve True si al menos uno de los operandos es True.\n",
        "print(a or b)   # True\n",
        "\n",
        "# not : Invierte el resultado, devuelve False si el resultado es verdadero.\n",
        "print(not a)    # False\n"
      ]
    },
    {
      "cell_type": "markdown",
      "metadata": {
        "id": "J3ueBtWtHpe4"
      },
      "source": [
        "#### ⭐ Ejemplo op lógicos ⭐"
      ]
    },
    {
      "cell_type": "markdown",
      "metadata": {
        "id": "WEBlRhSqHocj"
      },
      "source": [
        "Verifica si un número está en el rango de 10 a 20 inclusive."
      ]
    },
    {
      "cell_type": "code",
      "execution_count": null,
      "metadata": {
        "colab": {
          "base_uri": "https://localhost:8080/"
        },
        "id": "16uINcIUHvkW",
        "outputId": "bf8f9be1-ef71-4fd8-b7f3-71e29adec65e"
      },
      "outputs": [
        {
          "name": "stdout",
          "output_type": "stream",
          "text": [
            "Introduce un número: 15\n",
            "El número está en el rango de 10 a 20.\n"
          ]
        }
      ],
      "source": [
        "numero = int(input(\"Introduce un número: \"))\n",
        "\n",
        "if numero >= 10 and numero <= 20:\n",
        "    print(\"El número está en el rango de 10 a 20.\")\n",
        "else:\n",
        "    print(\"El número no está en el rango de 10 a 20.\")\n"
      ]
    },
    {
      "cell_type": "markdown",
      "metadata": {
        "id": "FX9HZUYnRSz6"
      },
      "source": [
        "###Operadores de pertenencia"
      ]
    },
    {
      "cell_type": "markdown",
      "metadata": {
        "id": "QuyX853BZk31"
      },
      "source": [
        "Los **operadores de pertenencia** se utilizan para verificar si un valor o variable está presente en una secuencia (como una cadena, lista, tupla, conjunto y diccionario).\n",
        "\n",
        "- **in:** Devuelve True si el valor está en la secuencia.\n",
        "- **not in:** Devuelve True si el valor no está en la secuencia."
      ]
    },
    {
      "cell_type": "code",
      "execution_count": null,
      "metadata": {
        "colab": {
          "base_uri": "https://localhost:8080/"
        },
        "id": "UsbN8ZZXZs_3",
        "outputId": "fd8a1d5f-3b14-4df1-d158-dfc7c236d2d9"
      },
      "outputs": [
        {
          "name": "stdout",
          "output_type": "stream",
          "text": [
            "True\n",
            "True\n"
          ]
        }
      ],
      "source": [
        "# Operadores de pertenencia\n",
        "frutas = [\"manzana\", \"banana\", \"cereza\"]\n",
        "\n",
        "print(\"banana\" in frutas)     # True\n",
        "print(\"pera\" not in frutas)   # True"
      ]
    },
    {
      "cell_type": "code",
      "execution_count": null,
      "metadata": {
        "colab": {
          "base_uri": "https://localhost:8080/"
        },
        "id": "UekoybP1TRQ3",
        "outputId": "86f093be-3bc0-4b8d-b498-630167447053"
      },
      "outputs": [
        {
          "name": "stdout",
          "output_type": "stream",
          "text": [
            "True\n"
          ]
        }
      ],
      "source": [
        "# Se define una lista de valores que contiene números enteros y flotantes.\n",
        "lista_valores = [10, 55.5, 100, 155]\n",
        "\n",
        "# Utiliza el operador 'not in' para verificar si 55 no está presente en 'lista_valores'.\n",
        "# Esta operación devuelve True si 55 no se encuentra en 'lista_valores', y False si 55 está presente.\n",
        "print(55 not in lista_valores)  # Esto mostrará True, ya que 55 no está en la lista, aunque 55.5 sí."
      ]
    },
    {
      "cell_type": "markdown",
      "metadata": {
        "id": "Wb_byd7iZ4tE"
      },
      "source": [
        "##### ⭐ Ejemplo op pertenencia ⭐"
      ]
    },
    {
      "cell_type": "markdown",
      "metadata": {
        "id": "2mkvQGznaAJB"
      },
      "source": [
        "Verifica si una letra está presente en una palabra dada."
      ]
    },
    {
      "cell_type": "code",
      "execution_count": null,
      "metadata": {
        "colab": {
          "base_uri": "https://localhost:8080/"
        },
        "id": "bZPapHRFZ5_O",
        "outputId": "a8902a57-e518-412e-8098-186db71689dc"
      },
      "outputs": [
        {
          "name": "stdout",
          "output_type": "stream",
          "text": [
            "Introduce una palabra: silvia\n",
            "Introduce una letra: s\n",
            "La letra 's' está en la palabra 'silvia'.\n"
          ]
        }
      ],
      "source": [
        "palabra = input(\"Introduce una palabra: \")\n",
        "letra = input(\"Introduce una letra: \")\n",
        "\n",
        "if letra in palabra:\n",
        "    print(f\"La letra '{letra}' está en la palabra '{palabra}'.\")\n",
        "else:\n",
        "    print(f\"La letra '{letra}' no está en la palabra '{palabra}'.\")\n"
      ]
    }
  ],
  "metadata": {
    "colab": {
      "collapsed_sections": [
        "yDjH9OIKfdh_"
      ],
      "provenance": [],
      "toc_visible": true
    },
    "kernelspec": {
      "display_name": "Python 3",
      "name": "python3"
    },
    "language_info": {
      "codemirror_mode": {
        "name": "ipython",
        "version": 3
      },
      "file_extension": ".py",
      "mimetype": "text/x-python",
      "name": "python",
      "nbconvert_exporter": "python",
      "pygments_lexer": "ipython3",
      "version": "3.9.6"
    }
  },
  "nbformat": 4,
  "nbformat_minor": 0
}